{
 "cells": [
  {
   "cell_type": "markdown",
   "id": "fc4051c0",
   "metadata": {},
   "source": [
    "## Nigeria Covid 19 Data Analysis Using Python \n",
    "\n",
    "## Overview"
   ]
  },
  {
   "cell_type": "markdown",
   "id": "45f7063b",
   "metadata": {},
   "source": [
    "### Coronavirus disease (COVID-19) is an infectious disease caused by a newly discovered coronavirus and it has affected many parts of the world. Nigeria, a West-African country with 37 states was also affected by COVID-19 as this pandemic led to shutting down major airports, a nation-wide lockdown and curfews which in turn devastated the economy. \n",
    "\n",
    "### The goal of this project is to perform analysis to answer questions and generate insights."
   ]
  },
  {
   "cell_type": "markdown",
   "id": "f5b0ed99",
   "metadata": {},
   "source": [
    "## 1. Data Collection\n",
    "#### In this step, we will obtain the data required for analysis by: \n",
    "#### * Performing web scraping from the NCDC website\n",
    "#### * Importing data from the John Hopkins Github repository and,\n",
    "#### * Importing the external data to a DataFrame."
   ]
  },
  {
   "cell_type": "markdown",
   "id": "a01203c9",
   "metadata": {},
   "source": [
    "## Import Libraries"
   ]
  },
  {
   "cell_type": "code",
   "execution_count": 1,
   "id": "38387573",
   "metadata": {},
   "outputs": [],
   "source": [
    "import requests\n",
    "import numpy as np\n",
    "import urllib.request\n",
    "import pandas as pd\n",
    "import csv\n",
    "from bs4 import BeautifulSoup\n",
    "import seaborn as sns\n",
    "sns.set_style(\"darkgrid\")\n",
    "import matplotlib.pyplot as plt\n",
    "%matplotlib inline\n",
    "plt.style.use('fivethirtyeight')  \n",
    "import warnings\n",
    "warnings.filterwarnings('ignore')"
   ]
  },
  {
   "cell_type": "markdown",
   "id": "eed454e6",
   "metadata": {},
   "source": [
    "## NCDC Website Scrape"
   ]
  },
  {
   "cell_type": "code",
   "execution_count": 3,
   "id": "0f174172",
   "metadata": {},
   "outputs": [
    {
     "name": "stdout",
     "output_type": "stream",
     "text": [
      "200\n"
     ]
    }
   ],
   "source": [
    "# Assigning the webpage url a variable name using requests.get() method\n",
    "url = 'https://covid19.ncdc.gov.ng/'\n",
    "covid = requests.get(url)\n",
    "print(covid.status_code)"
   ]
  },
  {
   "cell_type": "code",
   "execution_count": 4,
   "id": "6b0a7db5",
   "metadata": {},
   "outputs": [],
   "source": [
    "# Using the BeautifulSoup() function to parse the html\n",
    "soup = BeautifulSoup(covid.text, 'lxml') "
   ]
  },
  {
   "cell_type": "code",
   "execution_count": 5,
   "id": "5316940b",
   "metadata": {},
   "outputs": [],
   "source": [
    "table = soup.findAll('table',{\"id\":\"custom1\"})[0]\n",
    "values =[]"
   ]
  },
  {
   "cell_type": "code",
   "execution_count": 6,
   "id": "e39aaad1",
   "metadata": {},
   "outputs": [],
   "source": [
    "rows = table.findAll(['tr'])"
   ]
  },
  {
   "cell_type": "code",
   "execution_count": 7,
   "id": "3fca56b1",
   "metadata": {},
   "outputs": [],
   "source": [
    "covidfile = open(\"naija_covid.csv\",'wt',newline='',encoding='utf-8')\n",
    "writer = csv.writer(covidfile)  \n",
    "try:\n",
    "    for cell in rows:\n",
    "        th = cell.find_all('th')\n",
    "        csvrow = [col.text.strip('\\n') for col in th]\n",
    "        td = cell.find_all('td')\n",
    "        row = [i.text.replace('\\n','') for i in td]\n",
    "        writer.writerow(csvrow+row) \n",
    "        \n",
    "finally:\n",
    "    covidfile.close()"
   ]
  },
  {
   "cell_type": "code",
   "execution_count": 8,
   "id": "c892f3b4",
   "metadata": {},
   "outputs": [],
   "source": [
    "naijadf = pd.read_csv('naija_covid.csv')"
   ]
  },
  {
   "cell_type": "markdown",
   "id": "81befdcc",
   "metadata": {},
   "source": [
    "## John Hopkins Data Repository"
   ]
  },
  {
   "cell_type": "code",
   "execution_count": 11,
   "id": "362455ad",
   "metadata": {},
   "outputs": [],
   "source": [
    "# DataFrame One\n",
    "global_cases_confirmed = 'https://raw.githubusercontent.com/CSSEGISandData/COVID-19/master/csse_covid_19_data/csse_covid_19_time_series/time_series_covid19_confirmed_global.csv'\n",
    "df_globalconfirmed = pd.read_csv(global_cases_confirmed)"
   ]
  },
  {
   "cell_type": "code",
   "execution_count": 10,
   "id": "4d724e3b",
   "metadata": {},
   "outputs": [],
   "source": [
    "# DataFrame Two \n",
    "global_recovered_cases = 'https://raw.githubusercontent.com/CSSEGISandData/COVID-19/master/csse_covid_19_data/csse_covid_19_time_series/time_series_covid19_recovered_global.csv'\n",
    "df_globalrecovered = pd.read_csv(global_recovered_cases)"
   ]
  },
  {
   "cell_type": "code",
   "execution_count": 12,
   "id": "c83829c1",
   "metadata": {},
   "outputs": [],
   "source": [
    "# DataFrame Three \n",
    "global_death_cases = 'https://raw.githubusercontent.com/CSSEGISandData/COVID-19/master/csse_covid_19_data/csse_covid_19_time_series/time_series_covid19_deaths_global.csv'\n",
    "df_globaldeath = pd.read_csv(global_death_cases)"
   ]
  },
  {
   "cell_type": "markdown",
   "id": "4675e0b5",
   "metadata": {},
   "source": [
    "## External Data to DataFrame"
   ]
  },
  {
   "cell_type": "code",
   "execution_count": 13,
   "id": "1dafff15",
   "metadata": {},
   "outputs": [],
   "source": [
    "df_external = pd.read_csv('covid_external.csv')"
   ]
  },
  {
   "cell_type": "code",
   "execution_count": 14,
   "id": "01bf1b1e",
   "metadata": {},
   "outputs": [],
   "source": [
    "df_budget = pd.read_csv('Budget data.csv')"
   ]
  },
  {
   "cell_type": "code",
   "execution_count": 15,
   "id": "d8c9d767",
   "metadata": {},
   "outputs": [],
   "source": [
    "df_realgdp = pd.read_csv('RealGDP.csv')"
   ]
  },
  {
   "cell_type": "markdown",
   "id": "d123e7a7",
   "metadata": {},
   "source": [
    "## Viewing the Data"
   ]
  },
  {
   "cell_type": "markdown",
   "id": "4a8b6bb3",
   "metadata": {},
   "source": [
    "### We obtain basic information about the data using the head() and info() method"
   ]
  },
  {
   "cell_type": "code",
   "execution_count": 16,
   "id": "2de82f0a",
   "metadata": {},
   "outputs": [
    {
     "data": {
      "text/html": [
       "<div>\n",
       "<style scoped>\n",
       "    .dataframe tbody tr th:only-of-type {\n",
       "        vertical-align: middle;\n",
       "    }\n",
       "\n",
       "    .dataframe tbody tr th {\n",
       "        vertical-align: top;\n",
       "    }\n",
       "\n",
       "    .dataframe thead th {\n",
       "        text-align: right;\n",
       "    }\n",
       "</style>\n",
       "<table border=\"1\" class=\"dataframe\">\n",
       "  <thead>\n",
       "    <tr style=\"text-align: right;\">\n",
       "      <th></th>\n",
       "      <th>States Affected</th>\n",
       "      <th>No. of Cases (Lab Confirmed)</th>\n",
       "      <th>No. of Cases (on admission)</th>\n",
       "      <th>No. Discharged</th>\n",
       "      <th>No. of Deaths</th>\n",
       "    </tr>\n",
       "  </thead>\n",
       "  <tbody>\n",
       "    <tr>\n",
       "      <th>0</th>\n",
       "      <td>Lagos</td>\n",
       "      <td>104,286</td>\n",
       "      <td>1,143</td>\n",
       "      <td>102,372</td>\n",
       "      <td>771</td>\n",
       "    </tr>\n",
       "    <tr>\n",
       "      <th>1</th>\n",
       "      <td>FCT</td>\n",
       "      <td>29,535</td>\n",
       "      <td>9</td>\n",
       "      <td>29,277</td>\n",
       "      <td>249</td>\n",
       "    </tr>\n",
       "    <tr>\n",
       "      <th>2</th>\n",
       "      <td>Rivers</td>\n",
       "      <td>18,112</td>\n",
       "      <td>-3</td>\n",
       "      <td>17,960</td>\n",
       "      <td>155</td>\n",
       "    </tr>\n",
       "    <tr>\n",
       "      <th>3</th>\n",
       "      <td>Kaduna</td>\n",
       "      <td>11,675</td>\n",
       "      <td>3</td>\n",
       "      <td>11,583</td>\n",
       "      <td>89</td>\n",
       "    </tr>\n",
       "    <tr>\n",
       "      <th>4</th>\n",
       "      <td>Plateau</td>\n",
       "      <td>10,365</td>\n",
       "      <td>4</td>\n",
       "      <td>10,286</td>\n",
       "      <td>75</td>\n",
       "    </tr>\n",
       "  </tbody>\n",
       "</table>\n",
       "</div>"
      ],
      "text/plain": [
       "  States Affected No. of Cases (Lab Confirmed) No. of Cases (on admission)  \\\n",
       "0           Lagos                      104,286                       1,143   \n",
       "1             FCT                       29,535                           9   \n",
       "2          Rivers                       18,112                          -3   \n",
       "3          Kaduna                       11,675                           3   \n",
       "4         Plateau                       10,365                           4   \n",
       "\n",
       "  No. Discharged  No. of Deaths  \n",
       "0        102,372            771  \n",
       "1         29,277            249  \n",
       "2         17,960            155  \n",
       "3         11,583             89  \n",
       "4         10,286             75  "
      ]
     },
     "execution_count": 16,
     "metadata": {},
     "output_type": "execute_result"
    }
   ],
   "source": [
    "naijadf.head()"
   ]
  },
  {
   "cell_type": "code",
   "execution_count": 17,
   "id": "9c410f3b",
   "metadata": {},
   "outputs": [
    {
     "name": "stdout",
     "output_type": "stream",
     "text": [
      "<class 'pandas.core.frame.DataFrame'>\n",
      "RangeIndex: 37 entries, 0 to 36\n",
      "Data columns (total 5 columns):\n",
      " #   Column                        Non-Null Count  Dtype \n",
      "---  ------                        --------------  ----- \n",
      " 0   States Affected               37 non-null     object\n",
      " 1   No. of Cases (Lab Confirmed)  37 non-null     object\n",
      " 2   No. of Cases (on admission)   37 non-null     object\n",
      " 3   No. Discharged                37 non-null     object\n",
      " 4   No. of Deaths                 37 non-null     int64 \n",
      "dtypes: int64(1), object(4)\n",
      "memory usage: 1.6+ KB\n"
     ]
    }
   ],
   "source": [
    "naijadf.info()"
   ]
  },
  {
   "cell_type": "code",
   "execution_count": 18,
   "id": "80563587",
   "metadata": {},
   "outputs": [
    {
     "data": {
      "text/html": [
       "<div>\n",
       "<style scoped>\n",
       "    .dataframe tbody tr th:only-of-type {\n",
       "        vertical-align: middle;\n",
       "    }\n",
       "\n",
       "    .dataframe tbody tr th {\n",
       "        vertical-align: top;\n",
       "    }\n",
       "\n",
       "    .dataframe thead th {\n",
       "        text-align: right;\n",
       "    }\n",
       "</style>\n",
       "<table border=\"1\" class=\"dataframe\">\n",
       "  <thead>\n",
       "    <tr style=\"text-align: right;\">\n",
       "      <th></th>\n",
       "      <th>Province/State</th>\n",
       "      <th>Country/Region</th>\n",
       "      <th>Lat</th>\n",
       "      <th>Long</th>\n",
       "      <th>1/22/20</th>\n",
       "      <th>1/23/20</th>\n",
       "      <th>1/24/20</th>\n",
       "      <th>1/25/20</th>\n",
       "      <th>1/26/20</th>\n",
       "      <th>1/27/20</th>\n",
       "      <th>...</th>\n",
       "      <th>2/28/23</th>\n",
       "      <th>3/1/23</th>\n",
       "      <th>3/2/23</th>\n",
       "      <th>3/3/23</th>\n",
       "      <th>3/4/23</th>\n",
       "      <th>3/5/23</th>\n",
       "      <th>3/6/23</th>\n",
       "      <th>3/7/23</th>\n",
       "      <th>3/8/23</th>\n",
       "      <th>3/9/23</th>\n",
       "    </tr>\n",
       "  </thead>\n",
       "  <tbody>\n",
       "    <tr>\n",
       "      <th>0</th>\n",
       "      <td>NaN</td>\n",
       "      <td>Afghanistan</td>\n",
       "      <td>33.939110</td>\n",
       "      <td>67.709953</td>\n",
       "      <td>0</td>\n",
       "      <td>0</td>\n",
       "      <td>0</td>\n",
       "      <td>0</td>\n",
       "      <td>0</td>\n",
       "      <td>0</td>\n",
       "      <td>...</td>\n",
       "      <td>209322</td>\n",
       "      <td>209340</td>\n",
       "      <td>209358</td>\n",
       "      <td>209362</td>\n",
       "      <td>209369</td>\n",
       "      <td>209390</td>\n",
       "      <td>209406</td>\n",
       "      <td>209436</td>\n",
       "      <td>209451</td>\n",
       "      <td>209451</td>\n",
       "    </tr>\n",
       "    <tr>\n",
       "      <th>1</th>\n",
       "      <td>NaN</td>\n",
       "      <td>Albania</td>\n",
       "      <td>41.153300</td>\n",
       "      <td>20.168300</td>\n",
       "      <td>0</td>\n",
       "      <td>0</td>\n",
       "      <td>0</td>\n",
       "      <td>0</td>\n",
       "      <td>0</td>\n",
       "      <td>0</td>\n",
       "      <td>...</td>\n",
       "      <td>334391</td>\n",
       "      <td>334408</td>\n",
       "      <td>334408</td>\n",
       "      <td>334427</td>\n",
       "      <td>334427</td>\n",
       "      <td>334427</td>\n",
       "      <td>334427</td>\n",
       "      <td>334427</td>\n",
       "      <td>334443</td>\n",
       "      <td>334457</td>\n",
       "    </tr>\n",
       "    <tr>\n",
       "      <th>2</th>\n",
       "      <td>NaN</td>\n",
       "      <td>Algeria</td>\n",
       "      <td>28.033900</td>\n",
       "      <td>1.659600</td>\n",
       "      <td>0</td>\n",
       "      <td>0</td>\n",
       "      <td>0</td>\n",
       "      <td>0</td>\n",
       "      <td>0</td>\n",
       "      <td>0</td>\n",
       "      <td>...</td>\n",
       "      <td>271441</td>\n",
       "      <td>271448</td>\n",
       "      <td>271463</td>\n",
       "      <td>271469</td>\n",
       "      <td>271469</td>\n",
       "      <td>271477</td>\n",
       "      <td>271477</td>\n",
       "      <td>271490</td>\n",
       "      <td>271494</td>\n",
       "      <td>271496</td>\n",
       "    </tr>\n",
       "    <tr>\n",
       "      <th>3</th>\n",
       "      <td>NaN</td>\n",
       "      <td>Andorra</td>\n",
       "      <td>42.506300</td>\n",
       "      <td>1.521800</td>\n",
       "      <td>0</td>\n",
       "      <td>0</td>\n",
       "      <td>0</td>\n",
       "      <td>0</td>\n",
       "      <td>0</td>\n",
       "      <td>0</td>\n",
       "      <td>...</td>\n",
       "      <td>47866</td>\n",
       "      <td>47875</td>\n",
       "      <td>47875</td>\n",
       "      <td>47875</td>\n",
       "      <td>47875</td>\n",
       "      <td>47875</td>\n",
       "      <td>47875</td>\n",
       "      <td>47875</td>\n",
       "      <td>47890</td>\n",
       "      <td>47890</td>\n",
       "    </tr>\n",
       "    <tr>\n",
       "      <th>4</th>\n",
       "      <td>NaN</td>\n",
       "      <td>Angola</td>\n",
       "      <td>-11.202700</td>\n",
       "      <td>17.873900</td>\n",
       "      <td>0</td>\n",
       "      <td>0</td>\n",
       "      <td>0</td>\n",
       "      <td>0</td>\n",
       "      <td>0</td>\n",
       "      <td>0</td>\n",
       "      <td>...</td>\n",
       "      <td>105255</td>\n",
       "      <td>105277</td>\n",
       "      <td>105277</td>\n",
       "      <td>105277</td>\n",
       "      <td>105277</td>\n",
       "      <td>105277</td>\n",
       "      <td>105277</td>\n",
       "      <td>105277</td>\n",
       "      <td>105288</td>\n",
       "      <td>105288</td>\n",
       "    </tr>\n",
       "    <tr>\n",
       "      <th>...</th>\n",
       "      <td>...</td>\n",
       "      <td>...</td>\n",
       "      <td>...</td>\n",
       "      <td>...</td>\n",
       "      <td>...</td>\n",
       "      <td>...</td>\n",
       "      <td>...</td>\n",
       "      <td>...</td>\n",
       "      <td>...</td>\n",
       "      <td>...</td>\n",
       "      <td>...</td>\n",
       "      <td>...</td>\n",
       "      <td>...</td>\n",
       "      <td>...</td>\n",
       "      <td>...</td>\n",
       "      <td>...</td>\n",
       "      <td>...</td>\n",
       "      <td>...</td>\n",
       "      <td>...</td>\n",
       "      <td>...</td>\n",
       "      <td>...</td>\n",
       "    </tr>\n",
       "    <tr>\n",
       "      <th>284</th>\n",
       "      <td>NaN</td>\n",
       "      <td>West Bank and Gaza</td>\n",
       "      <td>31.952200</td>\n",
       "      <td>35.233200</td>\n",
       "      <td>0</td>\n",
       "      <td>0</td>\n",
       "      <td>0</td>\n",
       "      <td>0</td>\n",
       "      <td>0</td>\n",
       "      <td>0</td>\n",
       "      <td>...</td>\n",
       "      <td>703228</td>\n",
       "      <td>703228</td>\n",
       "      <td>703228</td>\n",
       "      <td>703228</td>\n",
       "      <td>703228</td>\n",
       "      <td>703228</td>\n",
       "      <td>703228</td>\n",
       "      <td>703228</td>\n",
       "      <td>703228</td>\n",
       "      <td>703228</td>\n",
       "    </tr>\n",
       "    <tr>\n",
       "      <th>285</th>\n",
       "      <td>NaN</td>\n",
       "      <td>Winter Olympics 2022</td>\n",
       "      <td>39.904200</td>\n",
       "      <td>116.407400</td>\n",
       "      <td>0</td>\n",
       "      <td>0</td>\n",
       "      <td>0</td>\n",
       "      <td>0</td>\n",
       "      <td>0</td>\n",
       "      <td>0</td>\n",
       "      <td>...</td>\n",
       "      <td>535</td>\n",
       "      <td>535</td>\n",
       "      <td>535</td>\n",
       "      <td>535</td>\n",
       "      <td>535</td>\n",
       "      <td>535</td>\n",
       "      <td>535</td>\n",
       "      <td>535</td>\n",
       "      <td>535</td>\n",
       "      <td>535</td>\n",
       "    </tr>\n",
       "    <tr>\n",
       "      <th>286</th>\n",
       "      <td>NaN</td>\n",
       "      <td>Yemen</td>\n",
       "      <td>15.552727</td>\n",
       "      <td>48.516388</td>\n",
       "      <td>0</td>\n",
       "      <td>0</td>\n",
       "      <td>0</td>\n",
       "      <td>0</td>\n",
       "      <td>0</td>\n",
       "      <td>0</td>\n",
       "      <td>...</td>\n",
       "      <td>11945</td>\n",
       "      <td>11945</td>\n",
       "      <td>11945</td>\n",
       "      <td>11945</td>\n",
       "      <td>11945</td>\n",
       "      <td>11945</td>\n",
       "      <td>11945</td>\n",
       "      <td>11945</td>\n",
       "      <td>11945</td>\n",
       "      <td>11945</td>\n",
       "    </tr>\n",
       "    <tr>\n",
       "      <th>287</th>\n",
       "      <td>NaN</td>\n",
       "      <td>Zambia</td>\n",
       "      <td>-13.133897</td>\n",
       "      <td>27.849332</td>\n",
       "      <td>0</td>\n",
       "      <td>0</td>\n",
       "      <td>0</td>\n",
       "      <td>0</td>\n",
       "      <td>0</td>\n",
       "      <td>0</td>\n",
       "      <td>...</td>\n",
       "      <td>343012</td>\n",
       "      <td>343012</td>\n",
       "      <td>343079</td>\n",
       "      <td>343079</td>\n",
       "      <td>343079</td>\n",
       "      <td>343135</td>\n",
       "      <td>343135</td>\n",
       "      <td>343135</td>\n",
       "      <td>343135</td>\n",
       "      <td>343135</td>\n",
       "    </tr>\n",
       "    <tr>\n",
       "      <th>288</th>\n",
       "      <td>NaN</td>\n",
       "      <td>Zimbabwe</td>\n",
       "      <td>-19.015438</td>\n",
       "      <td>29.154857</td>\n",
       "      <td>0</td>\n",
       "      <td>0</td>\n",
       "      <td>0</td>\n",
       "      <td>0</td>\n",
       "      <td>0</td>\n",
       "      <td>0</td>\n",
       "      <td>...</td>\n",
       "      <td>263921</td>\n",
       "      <td>264127</td>\n",
       "      <td>264127</td>\n",
       "      <td>264127</td>\n",
       "      <td>264127</td>\n",
       "      <td>264127</td>\n",
       "      <td>264127</td>\n",
       "      <td>264127</td>\n",
       "      <td>264276</td>\n",
       "      <td>264276</td>\n",
       "    </tr>\n",
       "  </tbody>\n",
       "</table>\n",
       "<p>289 rows × 1147 columns</p>\n",
       "</div>"
      ],
      "text/plain": [
       "    Province/State        Country/Region        Lat        Long  1/22/20  \\\n",
       "0              NaN           Afghanistan  33.939110   67.709953        0   \n",
       "1              NaN               Albania  41.153300   20.168300        0   \n",
       "2              NaN               Algeria  28.033900    1.659600        0   \n",
       "3              NaN               Andorra  42.506300    1.521800        0   \n",
       "4              NaN                Angola -11.202700   17.873900        0   \n",
       "..             ...                   ...        ...         ...      ...   \n",
       "284            NaN    West Bank and Gaza  31.952200   35.233200        0   \n",
       "285            NaN  Winter Olympics 2022  39.904200  116.407400        0   \n",
       "286            NaN                 Yemen  15.552727   48.516388        0   \n",
       "287            NaN                Zambia -13.133897   27.849332        0   \n",
       "288            NaN              Zimbabwe -19.015438   29.154857        0   \n",
       "\n",
       "     1/23/20  1/24/20  1/25/20  1/26/20  1/27/20  ...  2/28/23  3/1/23  \\\n",
       "0          0        0        0        0        0  ...   209322  209340   \n",
       "1          0        0        0        0        0  ...   334391  334408   \n",
       "2          0        0        0        0        0  ...   271441  271448   \n",
       "3          0        0        0        0        0  ...    47866   47875   \n",
       "4          0        0        0        0        0  ...   105255  105277   \n",
       "..       ...      ...      ...      ...      ...  ...      ...     ...   \n",
       "284        0        0        0        0        0  ...   703228  703228   \n",
       "285        0        0        0        0        0  ...      535     535   \n",
       "286        0        0        0        0        0  ...    11945   11945   \n",
       "287        0        0        0        0        0  ...   343012  343012   \n",
       "288        0        0        0        0        0  ...   263921  264127   \n",
       "\n",
       "     3/2/23  3/3/23  3/4/23  3/5/23  3/6/23  3/7/23  3/8/23  3/9/23  \n",
       "0    209358  209362  209369  209390  209406  209436  209451  209451  \n",
       "1    334408  334427  334427  334427  334427  334427  334443  334457  \n",
       "2    271463  271469  271469  271477  271477  271490  271494  271496  \n",
       "3     47875   47875   47875   47875   47875   47875   47890   47890  \n",
       "4    105277  105277  105277  105277  105277  105277  105288  105288  \n",
       "..      ...     ...     ...     ...     ...     ...     ...     ...  \n",
       "284  703228  703228  703228  703228  703228  703228  703228  703228  \n",
       "285     535     535     535     535     535     535     535     535  \n",
       "286   11945   11945   11945   11945   11945   11945   11945   11945  \n",
       "287  343079  343079  343079  343135  343135  343135  343135  343135  \n",
       "288  264127  264127  264127  264127  264127  264127  264276  264276  \n",
       "\n",
       "[289 rows x 1147 columns]"
      ]
     },
     "execution_count": 18,
     "metadata": {},
     "output_type": "execute_result"
    }
   ],
   "source": [
    "df_globalconfirmed"
   ]
  },
  {
   "cell_type": "code",
   "execution_count": 19,
   "id": "6bb0f610",
   "metadata": {},
   "outputs": [
    {
     "name": "stdout",
     "output_type": "stream",
     "text": [
      "<class 'pandas.core.frame.DataFrame'>\n",
      "RangeIndex: 274 entries, 0 to 273\n",
      "Columns: 1147 entries, Province/State to 3/9/23\n",
      "dtypes: float64(2), int64(1143), object(2)\n",
      "memory usage: 2.4+ MB\n"
     ]
    }
   ],
   "source": [
    "df_globalrecovered.info()"
   ]
  },
  {
   "cell_type": "code",
   "execution_count": 20,
   "id": "70858db2",
   "metadata": {},
   "outputs": [
    {
     "data": {
      "text/html": [
       "<div>\n",
       "<style scoped>\n",
       "    .dataframe tbody tr th:only-of-type {\n",
       "        vertical-align: middle;\n",
       "    }\n",
       "\n",
       "    .dataframe tbody tr th {\n",
       "        vertical-align: top;\n",
       "    }\n",
       "\n",
       "    .dataframe thead th {\n",
       "        text-align: right;\n",
       "    }\n",
       "</style>\n",
       "<table border=\"1\" class=\"dataframe\">\n",
       "  <thead>\n",
       "    <tr style=\"text-align: right;\">\n",
       "      <th></th>\n",
       "      <th>states</th>\n",
       "      <th>region</th>\n",
       "      <th>Population</th>\n",
       "      <th>Overall CCVI Index</th>\n",
       "      <th>Age</th>\n",
       "      <th>Epidemiological</th>\n",
       "      <th>Fragility</th>\n",
       "      <th>Health System</th>\n",
       "      <th>Population Density</th>\n",
       "      <th>Socio-Economic</th>\n",
       "      <th>Transport Availability</th>\n",
       "      <th>Acute IHR</th>\n",
       "    </tr>\n",
       "  </thead>\n",
       "  <tbody>\n",
       "    <tr>\n",
       "      <th>0</th>\n",
       "      <td>FCT</td>\n",
       "      <td>North Central</td>\n",
       "      <td>4865000</td>\n",
       "      <td>0.3</td>\n",
       "      <td>0.0</td>\n",
       "      <td>0.9</td>\n",
       "      <td>0.4</td>\n",
       "      <td>0.6</td>\n",
       "      <td>0.9</td>\n",
       "      <td>0.6</td>\n",
       "      <td>0.2</td>\n",
       "      <td>0.79</td>\n",
       "    </tr>\n",
       "    <tr>\n",
       "      <th>1</th>\n",
       "      <td>Plateau</td>\n",
       "      <td>North Central</td>\n",
       "      <td>4766000</td>\n",
       "      <td>0.4</td>\n",
       "      <td>0.5</td>\n",
       "      <td>0.4</td>\n",
       "      <td>0.8</td>\n",
       "      <td>0.3</td>\n",
       "      <td>0.3</td>\n",
       "      <td>0.5</td>\n",
       "      <td>0.3</td>\n",
       "      <td>0.93</td>\n",
       "    </tr>\n",
       "    <tr>\n",
       "      <th>2</th>\n",
       "      <td>Kwara</td>\n",
       "      <td>North Central</td>\n",
       "      <td>3524000</td>\n",
       "      <td>0.3</td>\n",
       "      <td>0.4</td>\n",
       "      <td>0.3</td>\n",
       "      <td>0.2</td>\n",
       "      <td>0.4</td>\n",
       "      <td>0.2</td>\n",
       "      <td>0.6</td>\n",
       "      <td>0.7</td>\n",
       "      <td>0.93</td>\n",
       "    </tr>\n",
       "    <tr>\n",
       "      <th>3</th>\n",
       "      <td>Nassarawa</td>\n",
       "      <td>North Central</td>\n",
       "      <td>2783000</td>\n",
       "      <td>0.1</td>\n",
       "      <td>0.3</td>\n",
       "      <td>0.5</td>\n",
       "      <td>0.9</td>\n",
       "      <td>0.0</td>\n",
       "      <td>0.1</td>\n",
       "      <td>0.6</td>\n",
       "      <td>0.5</td>\n",
       "      <td>0.85</td>\n",
       "    </tr>\n",
       "    <tr>\n",
       "      <th>4</th>\n",
       "      <td>Niger</td>\n",
       "      <td>North Central</td>\n",
       "      <td>6260000</td>\n",
       "      <td>0.6</td>\n",
       "      <td>0.0</td>\n",
       "      <td>0.6</td>\n",
       "      <td>0.3</td>\n",
       "      <td>0.7</td>\n",
       "      <td>0.1</td>\n",
       "      <td>0.8</td>\n",
       "      <td>0.8</td>\n",
       "      <td>0.84</td>\n",
       "    </tr>\n",
       "  </tbody>\n",
       "</table>\n",
       "</div>"
      ],
      "text/plain": [
       "      states         region  Population  Overall CCVI Index  Age  \\\n",
       "0        FCT  North Central     4865000                 0.3  0.0   \n",
       "1    Plateau  North Central     4766000                 0.4  0.5   \n",
       "2      Kwara  North Central     3524000                 0.3  0.4   \n",
       "3  Nassarawa  North Central     2783000                 0.1  0.3   \n",
       "4      Niger  North Central     6260000                 0.6  0.0   \n",
       "\n",
       "   Epidemiological  Fragility  Health System  Population Density  \\\n",
       "0              0.9        0.4            0.6                 0.9   \n",
       "1              0.4        0.8            0.3                 0.3   \n",
       "2              0.3        0.2            0.4                 0.2   \n",
       "3              0.5        0.9            0.0                 0.1   \n",
       "4              0.6        0.3            0.7                 0.1   \n",
       "\n",
       "   Socio-Economic   Transport Availability  Acute IHR  \n",
       "0             0.6                      0.2       0.79  \n",
       "1             0.5                      0.3       0.93  \n",
       "2             0.6                      0.7       0.93  \n",
       "3             0.6                      0.5       0.85  \n",
       "4             0.8                      0.8       0.84  "
      ]
     },
     "execution_count": 20,
     "metadata": {},
     "output_type": "execute_result"
    }
   ],
   "source": [
    "df_external.head()"
   ]
  },
  {
   "cell_type": "code",
   "execution_count": 21,
   "id": "16f36fa1",
   "metadata": {},
   "outputs": [
    {
     "name": "stdout",
     "output_type": "stream",
     "text": [
      "<class 'pandas.core.frame.DataFrame'>\n",
      "RangeIndex: 37 entries, 0 to 36\n",
      "Data columns (total 3 columns):\n",
      " #   Column               Non-Null Count  Dtype  \n",
      "---  ------               --------------  -----  \n",
      " 0   states               37 non-null     object \n",
      " 1   Initial_budget (Bn)  37 non-null     float64\n",
      " 2   Revised_budget (Bn)  37 non-null     float64\n",
      "dtypes: float64(2), object(1)\n",
      "memory usage: 1020.0+ bytes\n"
     ]
    }
   ],
   "source": [
    "df_budget.info()"
   ]
  },
  {
   "cell_type": "code",
   "execution_count": 22,
   "id": "e3be4e04",
   "metadata": {},
   "outputs": [
    {
     "data": {
      "text/html": [
       "<div>\n",
       "<style scoped>\n",
       "    .dataframe tbody tr th:only-of-type {\n",
       "        vertical-align: middle;\n",
       "    }\n",
       "\n",
       "    .dataframe tbody tr th {\n",
       "        vertical-align: top;\n",
       "    }\n",
       "\n",
       "    .dataframe thead th {\n",
       "        text-align: right;\n",
       "    }\n",
       "</style>\n",
       "<table border=\"1\" class=\"dataframe\">\n",
       "  <thead>\n",
       "    <tr style=\"text-align: right;\">\n",
       "      <th></th>\n",
       "      <th>Year</th>\n",
       "      <th>Q1</th>\n",
       "      <th>Q2</th>\n",
       "      <th>Q3</th>\n",
       "      <th>Q4</th>\n",
       "    </tr>\n",
       "  </thead>\n",
       "  <tbody>\n",
       "    <tr>\n",
       "      <th>0</th>\n",
       "      <td>2014</td>\n",
       "      <td>15438679.50</td>\n",
       "      <td>16084622.31</td>\n",
       "      <td>17479127.58</td>\n",
       "      <td>18150356.45</td>\n",
       "    </tr>\n",
       "    <tr>\n",
       "      <th>1</th>\n",
       "      <td>2015</td>\n",
       "      <td>16050601.38</td>\n",
       "      <td>16463341.91</td>\n",
       "      <td>17976234.59</td>\n",
       "      <td>18533752.07</td>\n",
       "    </tr>\n",
       "    <tr>\n",
       "      <th>2</th>\n",
       "      <td>2016</td>\n",
       "      <td>15943714.54</td>\n",
       "      <td>16218542.41</td>\n",
       "      <td>17555441.69</td>\n",
       "      <td>18213537.29</td>\n",
       "    </tr>\n",
       "    <tr>\n",
       "      <th>3</th>\n",
       "      <td>2017</td>\n",
       "      <td>15797965.83</td>\n",
       "      <td>16334719.27</td>\n",
       "      <td>17760228.17</td>\n",
       "      <td>18598067.07</td>\n",
       "    </tr>\n",
       "    <tr>\n",
       "      <th>4</th>\n",
       "      <td>2018</td>\n",
       "      <td>16096654.19</td>\n",
       "      <td>16580508.07</td>\n",
       "      <td>18081342.10</td>\n",
       "      <td>19041437.59</td>\n",
       "    </tr>\n",
       "  </tbody>\n",
       "</table>\n",
       "</div>"
      ],
      "text/plain": [
       "   Year           Q1           Q2           Q3           Q4\n",
       "0  2014  15438679.50  16084622.31  17479127.58  18150356.45\n",
       "1  2015  16050601.38  16463341.91  17976234.59  18533752.07\n",
       "2  2016  15943714.54  16218542.41  17555441.69  18213537.29\n",
       "3  2017  15797965.83  16334719.27  17760228.17  18598067.07\n",
       "4  2018  16096654.19  16580508.07  18081342.10  19041437.59"
      ]
     },
     "execution_count": 22,
     "metadata": {},
     "output_type": "execute_result"
    }
   ],
   "source": [
    "df_realgdp.head()"
   ]
  },
  {
   "cell_type": "code",
   "execution_count": 23,
   "id": "10187325",
   "metadata": {},
   "outputs": [
    {
     "data": {
      "text/html": [
       "<div>\n",
       "<style scoped>\n",
       "    .dataframe tbody tr th:only-of-type {\n",
       "        vertical-align: middle;\n",
       "    }\n",
       "\n",
       "    .dataframe tbody tr th {\n",
       "        vertical-align: top;\n",
       "    }\n",
       "\n",
       "    .dataframe thead th {\n",
       "        text-align: right;\n",
       "    }\n",
       "</style>\n",
       "<table border=\"1\" class=\"dataframe\">\n",
       "  <thead>\n",
       "    <tr style=\"text-align: right;\">\n",
       "      <th></th>\n",
       "      <th>states</th>\n",
       "      <th>Initial_budget (Bn)</th>\n",
       "      <th>Revised_budget (Bn)</th>\n",
       "    </tr>\n",
       "  </thead>\n",
       "  <tbody>\n",
       "    <tr>\n",
       "      <th>0</th>\n",
       "      <td>Abia</td>\n",
       "      <td>136.60</td>\n",
       "      <td>102.70</td>\n",
       "    </tr>\n",
       "    <tr>\n",
       "      <th>1</th>\n",
       "      <td>Adamawa</td>\n",
       "      <td>183.30</td>\n",
       "      <td>139.31</td>\n",
       "    </tr>\n",
       "    <tr>\n",
       "      <th>2</th>\n",
       "      <td>Akwa-Ibom</td>\n",
       "      <td>597.73</td>\n",
       "      <td>366.00</td>\n",
       "    </tr>\n",
       "    <tr>\n",
       "      <th>3</th>\n",
       "      <td>Anambra</td>\n",
       "      <td>137.10</td>\n",
       "      <td>112.80</td>\n",
       "    </tr>\n",
       "    <tr>\n",
       "      <th>4</th>\n",
       "      <td>Bauchi</td>\n",
       "      <td>167.20</td>\n",
       "      <td>128.00</td>\n",
       "    </tr>\n",
       "  </tbody>\n",
       "</table>\n",
       "</div>"
      ],
      "text/plain": [
       "      states  Initial_budget (Bn)  Revised_budget (Bn)\n",
       "0       Abia               136.60               102.70\n",
       "1    Adamawa               183.30               139.31\n",
       "2  Akwa-Ibom               597.73               366.00\n",
       "3    Anambra               137.10               112.80\n",
       "4     Bauchi               167.20               128.00"
      ]
     },
     "execution_count": 23,
     "metadata": {},
     "output_type": "execute_result"
    }
   ],
   "source": [
    "df_budget.head()"
   ]
  },
  {
   "cell_type": "code",
   "execution_count": 24,
   "id": "52b6800c",
   "metadata": {},
   "outputs": [
    {
     "name": "stdout",
     "output_type": "stream",
     "text": [
      "<class 'pandas.core.frame.DataFrame'>\n",
      "RangeIndex: 37 entries, 0 to 36\n",
      "Data columns (total 12 columns):\n",
      " #   Column                   Non-Null Count  Dtype  \n",
      "---  ------                   --------------  -----  \n",
      " 0   states                   37 non-null     object \n",
      " 1   region                   37 non-null     object \n",
      " 2   Population               37 non-null     int64  \n",
      " 3   Overall CCVI Index       37 non-null     float64\n",
      " 4   Age                      37 non-null     float64\n",
      " 5   Epidemiological          37 non-null     float64\n",
      " 6   Fragility                37 non-null     float64\n",
      " 7   Health System            37 non-null     float64\n",
      " 8   Population Density       37 non-null     float64\n",
      " 9   Socio-Economic           37 non-null     float64\n",
      " 10   Transport Availability  37 non-null     float64\n",
      " 11  Acute IHR                37 non-null     float64\n",
      "dtypes: float64(9), int64(1), object(2)\n",
      "memory usage: 3.6+ KB\n"
     ]
    }
   ],
   "source": [
    "df_external.info()"
   ]
  },
  {
   "cell_type": "code",
   "execution_count": 25,
   "id": "99e537a9",
   "metadata": {},
   "outputs": [
    {
     "data": {
      "text/html": [
       "<div>\n",
       "<style scoped>\n",
       "    .dataframe tbody tr th:only-of-type {\n",
       "        vertical-align: middle;\n",
       "    }\n",
       "\n",
       "    .dataframe tbody tr th {\n",
       "        vertical-align: top;\n",
       "    }\n",
       "\n",
       "    .dataframe thead th {\n",
       "        text-align: right;\n",
       "    }\n",
       "</style>\n",
       "<table border=\"1\" class=\"dataframe\">\n",
       "  <thead>\n",
       "    <tr style=\"text-align: right;\">\n",
       "      <th></th>\n",
       "      <th>States Affected</th>\n",
       "      <th>No. of Cases (Lab Confirmed)</th>\n",
       "      <th>No. of Cases (on admission)</th>\n",
       "      <th>No. Discharged</th>\n",
       "      <th>No. of Deaths</th>\n",
       "    </tr>\n",
       "  </thead>\n",
       "  <tbody>\n",
       "    <tr>\n",
       "      <th>32</th>\n",
       "      <td>Jigawa</td>\n",
       "      <td>669</td>\n",
       "      <td>2</td>\n",
       "      <td>649</td>\n",
       "      <td>18</td>\n",
       "    </tr>\n",
       "    <tr>\n",
       "      <th>33</th>\n",
       "      <td>Yobe</td>\n",
       "      <td>638</td>\n",
       "      <td>4</td>\n",
       "      <td>625</td>\n",
       "      <td>9</td>\n",
       "    </tr>\n",
       "    <tr>\n",
       "      <th>34</th>\n",
       "      <td>Kebbi</td>\n",
       "      <td>480</td>\n",
       "      <td>10</td>\n",
       "      <td>454</td>\n",
       "      <td>16</td>\n",
       "    </tr>\n",
       "    <tr>\n",
       "      <th>35</th>\n",
       "      <td>Zamfara</td>\n",
       "      <td>375</td>\n",
       "      <td>0</td>\n",
       "      <td>366</td>\n",
       "      <td>9</td>\n",
       "    </tr>\n",
       "    <tr>\n",
       "      <th>36</th>\n",
       "      <td>Kogi</td>\n",
       "      <td>5</td>\n",
       "      <td>0</td>\n",
       "      <td>3</td>\n",
       "      <td>2</td>\n",
       "    </tr>\n",
       "  </tbody>\n",
       "</table>\n",
       "</div>"
      ],
      "text/plain": [
       "   States Affected No. of Cases (Lab Confirmed) No. of Cases (on admission)  \\\n",
       "32          Jigawa                          669                           2   \n",
       "33            Yobe                          638                           4   \n",
       "34           Kebbi                          480                          10   \n",
       "35         Zamfara                          375                           0   \n",
       "36            Kogi                            5                           0   \n",
       "\n",
       "   No. Discharged  No. of Deaths  \n",
       "32            649             18  \n",
       "33            625              9  \n",
       "34            454             16  \n",
       "35            366              9  \n",
       "36              3              2  "
      ]
     },
     "execution_count": 25,
     "metadata": {},
     "output_type": "execute_result"
    }
   ],
   "source": [
    "# Using the tail() method to get more insight on the DataFrame\n",
    "naijadf.tail()"
   ]
  },
  {
   "cell_type": "code",
   "execution_count": 26,
   "id": "d1b6ff89",
   "metadata": {},
   "outputs": [
    {
     "data": {
      "text/html": [
       "<div>\n",
       "<style scoped>\n",
       "    .dataframe tbody tr th:only-of-type {\n",
       "        vertical-align: middle;\n",
       "    }\n",
       "\n",
       "    .dataframe tbody tr th {\n",
       "        vertical-align: top;\n",
       "    }\n",
       "\n",
       "    .dataframe thead th {\n",
       "        text-align: right;\n",
       "    }\n",
       "</style>\n",
       "<table border=\"1\" class=\"dataframe\">\n",
       "  <thead>\n",
       "    <tr style=\"text-align: right;\">\n",
       "      <th></th>\n",
       "      <th>states</th>\n",
       "      <th>Initial_budget (Bn)</th>\n",
       "      <th>Revised_budget (Bn)</th>\n",
       "    </tr>\n",
       "  </thead>\n",
       "  <tbody>\n",
       "    <tr>\n",
       "      <th>32</th>\n",
       "      <td>Sokoto</td>\n",
       "      <td>202.40</td>\n",
       "      <td>153.0</td>\n",
       "    </tr>\n",
       "    <tr>\n",
       "      <th>33</th>\n",
       "      <td>Taraba</td>\n",
       "      <td>215.00</td>\n",
       "      <td>150.5</td>\n",
       "    </tr>\n",
       "    <tr>\n",
       "      <th>34</th>\n",
       "      <td>Yobe</td>\n",
       "      <td>108.00</td>\n",
       "      <td>86.0</td>\n",
       "    </tr>\n",
       "    <tr>\n",
       "      <th>35</th>\n",
       "      <td>Zamfara</td>\n",
       "      <td>188.50</td>\n",
       "      <td>127.3</td>\n",
       "    </tr>\n",
       "    <tr>\n",
       "      <th>36</th>\n",
       "      <td>FCT</td>\n",
       "      <td>278.78</td>\n",
       "      <td>199.0</td>\n",
       "    </tr>\n",
       "  </tbody>\n",
       "</table>\n",
       "</div>"
      ],
      "text/plain": [
       "     states  Initial_budget (Bn)  Revised_budget (Bn)\n",
       "32   Sokoto               202.40                153.0\n",
       "33   Taraba               215.00                150.5\n",
       "34     Yobe               108.00                 86.0\n",
       "35  Zamfara               188.50                127.3\n",
       "36      FCT               278.78                199.0"
      ]
     },
     "execution_count": 26,
     "metadata": {},
     "output_type": "execute_result"
    }
   ],
   "source": [
    "df_budget.tail()"
   ]
  },
  {
   "cell_type": "code",
   "execution_count": 27,
   "id": "dbea4692",
   "metadata": {},
   "outputs": [
    {
     "data": {
      "text/html": [
       "<div>\n",
       "<style scoped>\n",
       "    .dataframe tbody tr th:only-of-type {\n",
       "        vertical-align: middle;\n",
       "    }\n",
       "\n",
       "    .dataframe tbody tr th {\n",
       "        vertical-align: top;\n",
       "    }\n",
       "\n",
       "    .dataframe thead th {\n",
       "        text-align: right;\n",
       "    }\n",
       "</style>\n",
       "<table border=\"1\" class=\"dataframe\">\n",
       "  <thead>\n",
       "    <tr style=\"text-align: right;\">\n",
       "      <th></th>\n",
       "      <th>states</th>\n",
       "      <th>region</th>\n",
       "      <th>Population</th>\n",
       "      <th>Overall CCVI Index</th>\n",
       "      <th>Age</th>\n",
       "      <th>Epidemiological</th>\n",
       "      <th>Fragility</th>\n",
       "      <th>Health System</th>\n",
       "      <th>Population Density</th>\n",
       "      <th>Socio-Economic</th>\n",
       "      <th>Transport Availability</th>\n",
       "      <th>Acute IHR</th>\n",
       "    </tr>\n",
       "  </thead>\n",
       "  <tbody>\n",
       "    <tr>\n",
       "      <th>32</th>\n",
       "      <td>Oyo</td>\n",
       "      <td>South West</td>\n",
       "      <td>8737000</td>\n",
       "      <td>0.2</td>\n",
       "      <td>0.7</td>\n",
       "      <td>0.8</td>\n",
       "      <td>0.2</td>\n",
       "      <td>0.8</td>\n",
       "      <td>0.6</td>\n",
       "      <td>0.2</td>\n",
       "      <td>0.3</td>\n",
       "      <td>1.06</td>\n",
       "    </tr>\n",
       "    <tr>\n",
       "      <th>33</th>\n",
       "      <td>Ogun</td>\n",
       "      <td>South West</td>\n",
       "      <td>5878000</td>\n",
       "      <td>0.3</td>\n",
       "      <td>0.6</td>\n",
       "      <td>0.7</td>\n",
       "      <td>0.5</td>\n",
       "      <td>0.6</td>\n",
       "      <td>0.6</td>\n",
       "      <td>0.0</td>\n",
       "      <td>0.2</td>\n",
       "      <td>1.07</td>\n",
       "    </tr>\n",
       "    <tr>\n",
       "      <th>34</th>\n",
       "      <td>Ondo</td>\n",
       "      <td>South West</td>\n",
       "      <td>5185000</td>\n",
       "      <td>0.1</td>\n",
       "      <td>0.8</td>\n",
       "      <td>0.5</td>\n",
       "      <td>0.1</td>\n",
       "      <td>0.3</td>\n",
       "      <td>0.6</td>\n",
       "      <td>0.3</td>\n",
       "      <td>0.3</td>\n",
       "      <td>1.04</td>\n",
       "    </tr>\n",
       "    <tr>\n",
       "      <th>35</th>\n",
       "      <td>Osun</td>\n",
       "      <td>South West</td>\n",
       "      <td>5252000</td>\n",
       "      <td>0.0</td>\n",
       "      <td>0.7</td>\n",
       "      <td>0.4</td>\n",
       "      <td>0.4</td>\n",
       "      <td>0.0</td>\n",
       "      <td>0.8</td>\n",
       "      <td>0.1</td>\n",
       "      <td>0.2</td>\n",
       "      <td>1.06</td>\n",
       "    </tr>\n",
       "    <tr>\n",
       "      <th>36</th>\n",
       "      <td>Ekiti</td>\n",
       "      <td>South West</td>\n",
       "      <td>3593000</td>\n",
       "      <td>0.3</td>\n",
       "      <td>0.8</td>\n",
       "      <td>0.3</td>\n",
       "      <td>0.5</td>\n",
       "      <td>0.2</td>\n",
       "      <td>0.8</td>\n",
       "      <td>0.1</td>\n",
       "      <td>0.4</td>\n",
       "      <td>1.03</td>\n",
       "    </tr>\n",
       "  </tbody>\n",
       "</table>\n",
       "</div>"
      ],
      "text/plain": [
       "   states      region  Population  Overall CCVI Index  Age  Epidemiological  \\\n",
       "32    Oyo  South West     8737000                 0.2  0.7              0.8   \n",
       "33   Ogun  South West     5878000                 0.3  0.6              0.7   \n",
       "34   Ondo  South West     5185000                 0.1  0.8              0.5   \n",
       "35   Osun  South West     5252000                 0.0  0.7              0.4   \n",
       "36  Ekiti  South West     3593000                 0.3  0.8              0.3   \n",
       "\n",
       "    Fragility  Health System  Population Density  Socio-Economic  \\\n",
       "32        0.2            0.8                 0.6             0.2   \n",
       "33        0.5            0.6                 0.6             0.0   \n",
       "34        0.1            0.3                 0.6             0.3   \n",
       "35        0.4            0.0                 0.8             0.1   \n",
       "36        0.5            0.2                 0.8             0.1   \n",
       "\n",
       "     Transport Availability  Acute IHR  \n",
       "32                      0.3       1.06  \n",
       "33                      0.2       1.07  \n",
       "34                      0.3       1.04  \n",
       "35                      0.2       1.06  \n",
       "36                      0.4       1.03  "
      ]
     },
     "execution_count": 27,
     "metadata": {},
     "output_type": "execute_result"
    }
   ],
   "source": [
    "df_external.tail()"
   ]
  },
  {
   "cell_type": "code",
   "execution_count": 28,
   "id": "f6e426cb",
   "metadata": {},
   "outputs": [
    {
     "data": {
      "text/html": [
       "<div>\n",
       "<style scoped>\n",
       "    .dataframe tbody tr th:only-of-type {\n",
       "        vertical-align: middle;\n",
       "    }\n",
       "\n",
       "    .dataframe tbody tr th {\n",
       "        vertical-align: top;\n",
       "    }\n",
       "\n",
       "    .dataframe thead th {\n",
       "        text-align: right;\n",
       "    }\n",
       "</style>\n",
       "<table border=\"1\" class=\"dataframe\">\n",
       "  <thead>\n",
       "    <tr style=\"text-align: right;\">\n",
       "      <th></th>\n",
       "      <th>Province/State</th>\n",
       "      <th>Country/Region</th>\n",
       "      <th>Lat</th>\n",
       "      <th>Long</th>\n",
       "      <th>1/22/20</th>\n",
       "      <th>1/23/20</th>\n",
       "      <th>1/24/20</th>\n",
       "      <th>1/25/20</th>\n",
       "      <th>1/26/20</th>\n",
       "      <th>1/27/20</th>\n",
       "      <th>...</th>\n",
       "      <th>2/28/23</th>\n",
       "      <th>3/1/23</th>\n",
       "      <th>3/2/23</th>\n",
       "      <th>3/3/23</th>\n",
       "      <th>3/4/23</th>\n",
       "      <th>3/5/23</th>\n",
       "      <th>3/6/23</th>\n",
       "      <th>3/7/23</th>\n",
       "      <th>3/8/23</th>\n",
       "      <th>3/9/23</th>\n",
       "    </tr>\n",
       "  </thead>\n",
       "  <tbody>\n",
       "    <tr>\n",
       "      <th>284</th>\n",
       "      <td>NaN</td>\n",
       "      <td>West Bank and Gaza</td>\n",
       "      <td>31.952200</td>\n",
       "      <td>35.233200</td>\n",
       "      <td>0</td>\n",
       "      <td>0</td>\n",
       "      <td>0</td>\n",
       "      <td>0</td>\n",
       "      <td>0</td>\n",
       "      <td>0</td>\n",
       "      <td>...</td>\n",
       "      <td>703228</td>\n",
       "      <td>703228</td>\n",
       "      <td>703228</td>\n",
       "      <td>703228</td>\n",
       "      <td>703228</td>\n",
       "      <td>703228</td>\n",
       "      <td>703228</td>\n",
       "      <td>703228</td>\n",
       "      <td>703228</td>\n",
       "      <td>703228</td>\n",
       "    </tr>\n",
       "    <tr>\n",
       "      <th>285</th>\n",
       "      <td>NaN</td>\n",
       "      <td>Winter Olympics 2022</td>\n",
       "      <td>39.904200</td>\n",
       "      <td>116.407400</td>\n",
       "      <td>0</td>\n",
       "      <td>0</td>\n",
       "      <td>0</td>\n",
       "      <td>0</td>\n",
       "      <td>0</td>\n",
       "      <td>0</td>\n",
       "      <td>...</td>\n",
       "      <td>535</td>\n",
       "      <td>535</td>\n",
       "      <td>535</td>\n",
       "      <td>535</td>\n",
       "      <td>535</td>\n",
       "      <td>535</td>\n",
       "      <td>535</td>\n",
       "      <td>535</td>\n",
       "      <td>535</td>\n",
       "      <td>535</td>\n",
       "    </tr>\n",
       "    <tr>\n",
       "      <th>286</th>\n",
       "      <td>NaN</td>\n",
       "      <td>Yemen</td>\n",
       "      <td>15.552727</td>\n",
       "      <td>48.516388</td>\n",
       "      <td>0</td>\n",
       "      <td>0</td>\n",
       "      <td>0</td>\n",
       "      <td>0</td>\n",
       "      <td>0</td>\n",
       "      <td>0</td>\n",
       "      <td>...</td>\n",
       "      <td>11945</td>\n",
       "      <td>11945</td>\n",
       "      <td>11945</td>\n",
       "      <td>11945</td>\n",
       "      <td>11945</td>\n",
       "      <td>11945</td>\n",
       "      <td>11945</td>\n",
       "      <td>11945</td>\n",
       "      <td>11945</td>\n",
       "      <td>11945</td>\n",
       "    </tr>\n",
       "    <tr>\n",
       "      <th>287</th>\n",
       "      <td>NaN</td>\n",
       "      <td>Zambia</td>\n",
       "      <td>-13.133897</td>\n",
       "      <td>27.849332</td>\n",
       "      <td>0</td>\n",
       "      <td>0</td>\n",
       "      <td>0</td>\n",
       "      <td>0</td>\n",
       "      <td>0</td>\n",
       "      <td>0</td>\n",
       "      <td>...</td>\n",
       "      <td>343012</td>\n",
       "      <td>343012</td>\n",
       "      <td>343079</td>\n",
       "      <td>343079</td>\n",
       "      <td>343079</td>\n",
       "      <td>343135</td>\n",
       "      <td>343135</td>\n",
       "      <td>343135</td>\n",
       "      <td>343135</td>\n",
       "      <td>343135</td>\n",
       "    </tr>\n",
       "    <tr>\n",
       "      <th>288</th>\n",
       "      <td>NaN</td>\n",
       "      <td>Zimbabwe</td>\n",
       "      <td>-19.015438</td>\n",
       "      <td>29.154857</td>\n",
       "      <td>0</td>\n",
       "      <td>0</td>\n",
       "      <td>0</td>\n",
       "      <td>0</td>\n",
       "      <td>0</td>\n",
       "      <td>0</td>\n",
       "      <td>...</td>\n",
       "      <td>263921</td>\n",
       "      <td>264127</td>\n",
       "      <td>264127</td>\n",
       "      <td>264127</td>\n",
       "      <td>264127</td>\n",
       "      <td>264127</td>\n",
       "      <td>264127</td>\n",
       "      <td>264127</td>\n",
       "      <td>264276</td>\n",
       "      <td>264276</td>\n",
       "    </tr>\n",
       "  </tbody>\n",
       "</table>\n",
       "<p>5 rows × 1147 columns</p>\n",
       "</div>"
      ],
      "text/plain": [
       "    Province/State        Country/Region        Lat        Long  1/22/20  \\\n",
       "284            NaN    West Bank and Gaza  31.952200   35.233200        0   \n",
       "285            NaN  Winter Olympics 2022  39.904200  116.407400        0   \n",
       "286            NaN                 Yemen  15.552727   48.516388        0   \n",
       "287            NaN                Zambia -13.133897   27.849332        0   \n",
       "288            NaN              Zimbabwe -19.015438   29.154857        0   \n",
       "\n",
       "     1/23/20  1/24/20  1/25/20  1/26/20  1/27/20  ...  2/28/23  3/1/23  \\\n",
       "284        0        0        0        0        0  ...   703228  703228   \n",
       "285        0        0        0        0        0  ...      535     535   \n",
       "286        0        0        0        0        0  ...    11945   11945   \n",
       "287        0        0        0        0        0  ...   343012  343012   \n",
       "288        0        0        0        0        0  ...   263921  264127   \n",
       "\n",
       "     3/2/23  3/3/23  3/4/23  3/5/23  3/6/23  3/7/23  3/8/23  3/9/23  \n",
       "284  703228  703228  703228  703228  703228  703228  703228  703228  \n",
       "285     535     535     535     535     535     535     535     535  \n",
       "286   11945   11945   11945   11945   11945   11945   11945   11945  \n",
       "287  343079  343079  343079  343135  343135  343135  343135  343135  \n",
       "288  264127  264127  264127  264127  264127  264127  264276  264276  \n",
       "\n",
       "[5 rows x 1147 columns]"
      ]
     },
     "execution_count": 28,
     "metadata": {},
     "output_type": "execute_result"
    }
   ],
   "source": [
    "df_globalconfirmed.tail()"
   ]
  },
  {
   "cell_type": "code",
   "execution_count": 29,
   "id": "94279cd8",
   "metadata": {},
   "outputs": [
    {
     "data": {
      "text/html": [
       "<div>\n",
       "<style scoped>\n",
       "    .dataframe tbody tr th:only-of-type {\n",
       "        vertical-align: middle;\n",
       "    }\n",
       "\n",
       "    .dataframe tbody tr th {\n",
       "        vertical-align: top;\n",
       "    }\n",
       "\n",
       "    .dataframe thead th {\n",
       "        text-align: right;\n",
       "    }\n",
       "</style>\n",
       "<table border=\"1\" class=\"dataframe\">\n",
       "  <thead>\n",
       "    <tr style=\"text-align: right;\">\n",
       "      <th></th>\n",
       "      <th>Year</th>\n",
       "      <th>Q1</th>\n",
       "      <th>Q2</th>\n",
       "      <th>Q3</th>\n",
       "      <th>Q4</th>\n",
       "    </tr>\n",
       "  </thead>\n",
       "  <tbody>\n",
       "    <tr>\n",
       "      <th>0</th>\n",
       "      <td>2014</td>\n",
       "      <td>15438679.50</td>\n",
       "      <td>16084622.31</td>\n",
       "      <td>17479127.58</td>\n",
       "      <td>18150356.45</td>\n",
       "    </tr>\n",
       "    <tr>\n",
       "      <th>1</th>\n",
       "      <td>2015</td>\n",
       "      <td>16050601.38</td>\n",
       "      <td>16463341.91</td>\n",
       "      <td>17976234.59</td>\n",
       "      <td>18533752.07</td>\n",
       "    </tr>\n",
       "    <tr>\n",
       "      <th>2</th>\n",
       "      <td>2016</td>\n",
       "      <td>15943714.54</td>\n",
       "      <td>16218542.41</td>\n",
       "      <td>17555441.69</td>\n",
       "      <td>18213537.29</td>\n",
       "    </tr>\n",
       "    <tr>\n",
       "      <th>3</th>\n",
       "      <td>2017</td>\n",
       "      <td>15797965.83</td>\n",
       "      <td>16334719.27</td>\n",
       "      <td>17760228.17</td>\n",
       "      <td>18598067.07</td>\n",
       "    </tr>\n",
       "    <tr>\n",
       "      <th>4</th>\n",
       "      <td>2018</td>\n",
       "      <td>16096654.19</td>\n",
       "      <td>16580508.07</td>\n",
       "      <td>18081342.10</td>\n",
       "      <td>19041437.59</td>\n",
       "    </tr>\n",
       "  </tbody>\n",
       "</table>\n",
       "</div>"
      ],
      "text/plain": [
       "   Year           Q1           Q2           Q3           Q4\n",
       "0  2014  15438679.50  16084622.31  17479127.58  18150356.45\n",
       "1  2015  16050601.38  16463341.91  17976234.59  18533752.07\n",
       "2  2016  15943714.54  16218542.41  17555441.69  18213537.29\n",
       "3  2017  15797965.83  16334719.27  17760228.17  18598067.07\n",
       "4  2018  16096654.19  16580508.07  18081342.10  19041437.59"
      ]
     },
     "execution_count": 29,
     "metadata": {},
     "output_type": "execute_result"
    }
   ],
   "source": [
    "df_realgdp.head()"
   ]
  },
  {
   "cell_type": "markdown",
   "id": "4712be9c",
   "metadata": {},
   "source": [
    "## Data Cleaning and Preparation"
   ]
  },
  {
   "cell_type": "markdown",
   "id": "0eb16ed2",
   "metadata": {},
   "source": [
    "####  TODO A: Cleaning the Scraped Data"
   ]
  },
  {
   "cell_type": "code",
   "execution_count": 30,
   "id": "c42f65a4",
   "metadata": {},
   "outputs": [],
   "source": [
    "naijadf.columns = ['states', 'Lab confirmed cases', 'Cases on admission', 'Number of discharged', 'Number of deaths']"
   ]
  },
  {
   "cell_type": "code",
   "execution_count": 31,
   "id": "a5a66ed0",
   "metadata": {},
   "outputs": [
    {
     "data": {
      "text/html": [
       "<div>\n",
       "<style scoped>\n",
       "    .dataframe tbody tr th:only-of-type {\n",
       "        vertical-align: middle;\n",
       "    }\n",
       "\n",
       "    .dataframe tbody tr th {\n",
       "        vertical-align: top;\n",
       "    }\n",
       "\n",
       "    .dataframe thead th {\n",
       "        text-align: right;\n",
       "    }\n",
       "</style>\n",
       "<table border=\"1\" class=\"dataframe\">\n",
       "  <thead>\n",
       "    <tr style=\"text-align: right;\">\n",
       "      <th></th>\n",
       "      <th>states</th>\n",
       "      <th>Lab confirmed cases</th>\n",
       "      <th>Cases on admission</th>\n",
       "      <th>Number of discharged</th>\n",
       "      <th>Number of deaths</th>\n",
       "    </tr>\n",
       "  </thead>\n",
       "  <tbody>\n",
       "    <tr>\n",
       "      <th>0</th>\n",
       "      <td>Lagos</td>\n",
       "      <td>104,286</td>\n",
       "      <td>1,143</td>\n",
       "      <td>102,372</td>\n",
       "      <td>771</td>\n",
       "    </tr>\n",
       "    <tr>\n",
       "      <th>1</th>\n",
       "      <td>FCT</td>\n",
       "      <td>29,535</td>\n",
       "      <td>9</td>\n",
       "      <td>29,277</td>\n",
       "      <td>249</td>\n",
       "    </tr>\n",
       "    <tr>\n",
       "      <th>2</th>\n",
       "      <td>Rivers</td>\n",
       "      <td>18,112</td>\n",
       "      <td>-3</td>\n",
       "      <td>17,960</td>\n",
       "      <td>155</td>\n",
       "    </tr>\n",
       "    <tr>\n",
       "      <th>3</th>\n",
       "      <td>Kaduna</td>\n",
       "      <td>11,675</td>\n",
       "      <td>3</td>\n",
       "      <td>11,583</td>\n",
       "      <td>89</td>\n",
       "    </tr>\n",
       "    <tr>\n",
       "      <th>4</th>\n",
       "      <td>Plateau</td>\n",
       "      <td>10,365</td>\n",
       "      <td>4</td>\n",
       "      <td>10,286</td>\n",
       "      <td>75</td>\n",
       "    </tr>\n",
       "  </tbody>\n",
       "</table>\n",
       "</div>"
      ],
      "text/plain": [
       "    states Lab confirmed cases Cases on admission Number of discharged  \\\n",
       "0    Lagos             104,286              1,143              102,372   \n",
       "1      FCT              29,535                  9               29,277   \n",
       "2   Rivers              18,112                 -3               17,960   \n",
       "3   Kaduna              11,675                  3               11,583   \n",
       "4  Plateau              10,365                  4               10,286   \n",
       "\n",
       "   Number of deaths  \n",
       "0               771  \n",
       "1               249  \n",
       "2               155  \n",
       "3                89  \n",
       "4                75  "
      ]
     },
     "execution_count": 31,
     "metadata": {},
     "output_type": "execute_result"
    }
   ],
   "source": [
    "naijadf.head()"
   ]
  },
  {
   "cell_type": "code",
   "execution_count": 32,
   "id": "4792d592",
   "metadata": {},
   "outputs": [],
   "source": [
    "# Remove the extra white spaces and comma and converting 'Lab confirmed cases', 'Cases on admission', 'Number of discharged' to numerical data type\n",
    "naijadf= naijadf.replace({',':'', ' ':''}, regex=True)\n",
    "trash = naijadf[['Lab confirmed cases', 'Cases on admission', 'Number of discharged']].columns\n",
    "naijadf[trash] = naijadf[trash].apply(pd.to_numeric,errors='coerce')"
   ]
  },
  {
   "cell_type": "code",
   "execution_count": 33,
   "id": "ce9f3255",
   "metadata": {},
   "outputs": [
    {
     "data": {
      "text/html": [
       "<div>\n",
       "<style scoped>\n",
       "    .dataframe tbody tr th:only-of-type {\n",
       "        vertical-align: middle;\n",
       "    }\n",
       "\n",
       "    .dataframe tbody tr th {\n",
       "        vertical-align: top;\n",
       "    }\n",
       "\n",
       "    .dataframe thead th {\n",
       "        text-align: right;\n",
       "    }\n",
       "</style>\n",
       "<table border=\"1\" class=\"dataframe\">\n",
       "  <thead>\n",
       "    <tr style=\"text-align: right;\">\n",
       "      <th></th>\n",
       "      <th>states</th>\n",
       "      <th>Lab confirmed cases</th>\n",
       "      <th>Cases on admission</th>\n",
       "      <th>Number of discharged</th>\n",
       "      <th>Number of deaths</th>\n",
       "    </tr>\n",
       "  </thead>\n",
       "  <tbody>\n",
       "    <tr>\n",
       "      <th>0</th>\n",
       "      <td>Lagos</td>\n",
       "      <td>104286</td>\n",
       "      <td>1143</td>\n",
       "      <td>102372</td>\n",
       "      <td>771</td>\n",
       "    </tr>\n",
       "    <tr>\n",
       "      <th>1</th>\n",
       "      <td>FCT</td>\n",
       "      <td>29535</td>\n",
       "      <td>9</td>\n",
       "      <td>29277</td>\n",
       "      <td>249</td>\n",
       "    </tr>\n",
       "    <tr>\n",
       "      <th>2</th>\n",
       "      <td>Rivers</td>\n",
       "      <td>18112</td>\n",
       "      <td>-3</td>\n",
       "      <td>17960</td>\n",
       "      <td>155</td>\n",
       "    </tr>\n",
       "    <tr>\n",
       "      <th>3</th>\n",
       "      <td>Kaduna</td>\n",
       "      <td>11675</td>\n",
       "      <td>3</td>\n",
       "      <td>11583</td>\n",
       "      <td>89</td>\n",
       "    </tr>\n",
       "    <tr>\n",
       "      <th>4</th>\n",
       "      <td>Plateau</td>\n",
       "      <td>10365</td>\n",
       "      <td>4</td>\n",
       "      <td>10286</td>\n",
       "      <td>75</td>\n",
       "    </tr>\n",
       "  </tbody>\n",
       "</table>\n",
       "</div>"
      ],
      "text/plain": [
       "    states  Lab confirmed cases  Cases on admission  Number of discharged  \\\n",
       "0    Lagos               104286                1143                102372   \n",
       "1      FCT                29535                   9                 29277   \n",
       "2   Rivers                18112                  -3                 17960   \n",
       "3   Kaduna                11675                   3                 11583   \n",
       "4  Plateau                10365                   4                 10286   \n",
       "\n",
       "   Number of deaths  \n",
       "0               771  \n",
       "1               249  \n",
       "2               155  \n",
       "3                89  \n",
       "4                75  "
      ]
     },
     "execution_count": 33,
     "metadata": {},
     "output_type": "execute_result"
    }
   ],
   "source": [
    "naijadf.head()"
   ]
  },
  {
   "cell_type": "code",
   "execution_count": 34,
   "id": "3b65cc2d",
   "metadata": {},
   "outputs": [
    {
     "name": "stdout",
     "output_type": "stream",
     "text": [
      "<class 'pandas.core.frame.DataFrame'>\n",
      "RangeIndex: 37 entries, 0 to 36\n",
      "Data columns (total 5 columns):\n",
      " #   Column                Non-Null Count  Dtype \n",
      "---  ------                --------------  ----- \n",
      " 0   states                37 non-null     object\n",
      " 1   Lab confirmed cases   37 non-null     int64 \n",
      " 2   Cases on admission    37 non-null     int64 \n",
      " 3   Number of discharged  37 non-null     int64 \n",
      " 4   Number of deaths      37 non-null     int64 \n",
      "dtypes: int64(4), object(1)\n",
      "memory usage: 1.6+ KB\n"
     ]
    }
   ],
   "source": [
    "naijadf.info()"
   ]
  },
  {
   "cell_type": "markdown",
   "id": "9b2d67ad",
   "metadata": {},
   "source": [
    "#### TODO B: Get a Pandas DataFrame for Daily Confirmed Cases in Nigeria"
   ]
  },
  {
   "cell_type": "code",
   "execution_count": 35,
   "id": "eb3b955c",
   "metadata": {},
   "outputs": [],
   "source": [
    "df_globalconfirmed = df_globalconfirmed.drop(['Province/State', 'Lat', 'Long'], axis= 1)"
   ]
  },
  {
   "cell_type": "code",
   "execution_count": 36,
   "id": "523f3932",
   "metadata": {},
   "outputs": [],
   "source": [
    "confirmed_in_nga = df_globalconfirmed.groupby('Country/Region').sum().loc['Nigeria']"
   ]
  },
  {
   "cell_type": "code",
   "execution_count": 37,
   "id": "cd65a04a",
   "metadata": {},
   "outputs": [],
   "source": [
    "confirmed_in_nga = confirmed_in_nga.to_frame().reset_index()"
   ]
  },
  {
   "cell_type": "code",
   "execution_count": 38,
   "id": "7ddab9d7",
   "metadata": {},
   "outputs": [],
   "source": [
    "confirmed_in_nga.columns = ['Date', 'Cases']\n",
    "confirmed_in_nga['Date'] = pd.to_datetime(confirmed_in_nga['Date'])"
   ]
  },
  {
   "cell_type": "code",
   "execution_count": 39,
   "id": "37253799",
   "metadata": {},
   "outputs": [
    {
     "data": {
      "text/html": [
       "<div>\n",
       "<style scoped>\n",
       "    .dataframe tbody tr th:only-of-type {\n",
       "        vertical-align: middle;\n",
       "    }\n",
       "\n",
       "    .dataframe tbody tr th {\n",
       "        vertical-align: top;\n",
       "    }\n",
       "\n",
       "    .dataframe thead th {\n",
       "        text-align: right;\n",
       "    }\n",
       "</style>\n",
       "<table border=\"1\" class=\"dataframe\">\n",
       "  <thead>\n",
       "    <tr style=\"text-align: right;\">\n",
       "      <th></th>\n",
       "      <th>Date</th>\n",
       "      <th>Cases</th>\n",
       "    </tr>\n",
       "  </thead>\n",
       "  <tbody>\n",
       "    <tr>\n",
       "      <th>0</th>\n",
       "      <td>2020-01-22</td>\n",
       "      <td>0</td>\n",
       "    </tr>\n",
       "    <tr>\n",
       "      <th>1</th>\n",
       "      <td>2020-01-23</td>\n",
       "      <td>0</td>\n",
       "    </tr>\n",
       "    <tr>\n",
       "      <th>2</th>\n",
       "      <td>2020-01-24</td>\n",
       "      <td>0</td>\n",
       "    </tr>\n",
       "    <tr>\n",
       "      <th>3</th>\n",
       "      <td>2020-01-25</td>\n",
       "      <td>0</td>\n",
       "    </tr>\n",
       "    <tr>\n",
       "      <th>4</th>\n",
       "      <td>2020-01-26</td>\n",
       "      <td>0</td>\n",
       "    </tr>\n",
       "  </tbody>\n",
       "</table>\n",
       "</div>"
      ],
      "text/plain": [
       "        Date  Cases\n",
       "0 2020-01-22      0\n",
       "1 2020-01-23      0\n",
       "2 2020-01-24      0\n",
       "3 2020-01-25      0\n",
       "4 2020-01-26      0"
      ]
     },
     "execution_count": 39,
     "metadata": {},
     "output_type": "execute_result"
    }
   ],
   "source": [
    "confirmed_in_nga.head()"
   ]
  },
  {
   "cell_type": "code",
   "execution_count": 40,
   "id": "8052a695",
   "metadata": {},
   "outputs": [
    {
     "name": "stdout",
     "output_type": "stream",
     "text": [
      "<class 'pandas.core.frame.DataFrame'>\n",
      "RangeIndex: 1143 entries, 0 to 1142\n",
      "Data columns (total 2 columns):\n",
      " #   Column  Non-Null Count  Dtype         \n",
      "---  ------  --------------  -----         \n",
      " 0   Date    1143 non-null   datetime64[ns]\n",
      " 1   Cases   1143 non-null   int64         \n",
      "dtypes: datetime64[ns](1), int64(1)\n",
      "memory usage: 18.0 KB\n"
     ]
    }
   ],
   "source": [
    "confirmed_in_nga.info()"
   ]
  },
  {
   "cell_type": "code",
   "execution_count": 41,
   "id": "bae9f622",
   "metadata": {},
   "outputs": [
    {
     "data": {
      "text/html": [
       "<div>\n",
       "<style scoped>\n",
       "    .dataframe tbody tr th:only-of-type {\n",
       "        vertical-align: middle;\n",
       "    }\n",
       "\n",
       "    .dataframe tbody tr th {\n",
       "        vertical-align: top;\n",
       "    }\n",
       "\n",
       "    .dataframe thead th {\n",
       "        text-align: right;\n",
       "    }\n",
       "</style>\n",
       "<table border=\"1\" class=\"dataframe\">\n",
       "  <thead>\n",
       "    <tr style=\"text-align: right;\">\n",
       "      <th></th>\n",
       "      <th>Date</th>\n",
       "      <th>Cases</th>\n",
       "    </tr>\n",
       "  </thead>\n",
       "  <tbody>\n",
       "    <tr>\n",
       "      <th>1138</th>\n",
       "      <td>2023-03-05</td>\n",
       "      <td>266598</td>\n",
       "    </tr>\n",
       "    <tr>\n",
       "      <th>1139</th>\n",
       "      <td>2023-03-06</td>\n",
       "      <td>266598</td>\n",
       "    </tr>\n",
       "    <tr>\n",
       "      <th>1140</th>\n",
       "      <td>2023-03-07</td>\n",
       "      <td>266598</td>\n",
       "    </tr>\n",
       "    <tr>\n",
       "      <th>1141</th>\n",
       "      <td>2023-03-08</td>\n",
       "      <td>266598</td>\n",
       "    </tr>\n",
       "    <tr>\n",
       "      <th>1142</th>\n",
       "      <td>2023-03-09</td>\n",
       "      <td>266598</td>\n",
       "    </tr>\n",
       "  </tbody>\n",
       "</table>\n",
       "</div>"
      ],
      "text/plain": [
       "           Date   Cases\n",
       "1138 2023-03-05  266598\n",
       "1139 2023-03-06  266598\n",
       "1140 2023-03-07  266598\n",
       "1141 2023-03-08  266598\n",
       "1142 2023-03-09  266598"
      ]
     },
     "execution_count": 41,
     "metadata": {},
     "output_type": "execute_result"
    }
   ],
   "source": [
    "confirmed_in_nga.tail()"
   ]
  },
  {
   "cell_type": "markdown",
   "id": "5e107c0d",
   "metadata": {},
   "source": [
    "#### TODO C: Get a Pandas DataFrame for Daily Recovered cases in Nigeria"
   ]
  },
  {
   "cell_type": "code",
   "execution_count": 42,
   "id": "6cd8c064",
   "metadata": {},
   "outputs": [],
   "source": [
    "df_globalrecovered = df_globalrecovered.drop(['Province/State', 'Lat', 'Long'], axis=1)"
   ]
  },
  {
   "cell_type": "code",
   "execution_count": 43,
   "id": "1d27ff35",
   "metadata": {},
   "outputs": [],
   "source": [
    "recovered_in_nga = df_globalrecovered.groupby('Country/Region').sum().loc['Nigeria']"
   ]
  },
  {
   "cell_type": "code",
   "execution_count": 44,
   "id": "c22b9619",
   "metadata": {},
   "outputs": [],
   "source": [
    "recovered_in_nga = recovered_in_nga.to_frame().reset_index()"
   ]
  },
  {
   "cell_type": "code",
   "execution_count": 45,
   "id": "ad2b7f76",
   "metadata": {},
   "outputs": [],
   "source": [
    "recovered_in_nga.columns = ['Date', 'Cases']"
   ]
  },
  {
   "cell_type": "code",
   "execution_count": 46,
   "id": "8dd6e492",
   "metadata": {},
   "outputs": [],
   "source": [
    "recovered_in_nga['Date'] = pd.to_datetime(recovered_in_nga['Date'])"
   ]
  },
  {
   "cell_type": "code",
   "execution_count": 47,
   "id": "6cc26dc5",
   "metadata": {},
   "outputs": [
    {
     "data": {
      "text/html": [
       "<div>\n",
       "<style scoped>\n",
       "    .dataframe tbody tr th:only-of-type {\n",
       "        vertical-align: middle;\n",
       "    }\n",
       "\n",
       "    .dataframe tbody tr th {\n",
       "        vertical-align: top;\n",
       "    }\n",
       "\n",
       "    .dataframe thead th {\n",
       "        text-align: right;\n",
       "    }\n",
       "</style>\n",
       "<table border=\"1\" class=\"dataframe\">\n",
       "  <thead>\n",
       "    <tr style=\"text-align: right;\">\n",
       "      <th></th>\n",
       "      <th>Date</th>\n",
       "      <th>Cases</th>\n",
       "    </tr>\n",
       "  </thead>\n",
       "  <tbody>\n",
       "    <tr>\n",
       "      <th>0</th>\n",
       "      <td>2020-01-22</td>\n",
       "      <td>0</td>\n",
       "    </tr>\n",
       "    <tr>\n",
       "      <th>1</th>\n",
       "      <td>2020-01-23</td>\n",
       "      <td>0</td>\n",
       "    </tr>\n",
       "    <tr>\n",
       "      <th>2</th>\n",
       "      <td>2020-01-24</td>\n",
       "      <td>0</td>\n",
       "    </tr>\n",
       "    <tr>\n",
       "      <th>3</th>\n",
       "      <td>2020-01-25</td>\n",
       "      <td>0</td>\n",
       "    </tr>\n",
       "    <tr>\n",
       "      <th>4</th>\n",
       "      <td>2020-01-26</td>\n",
       "      <td>0</td>\n",
       "    </tr>\n",
       "  </tbody>\n",
       "</table>\n",
       "</div>"
      ],
      "text/plain": [
       "        Date  Cases\n",
       "0 2020-01-22      0\n",
       "1 2020-01-23      0\n",
       "2 2020-01-24      0\n",
       "3 2020-01-25      0\n",
       "4 2020-01-26      0"
      ]
     },
     "execution_count": 47,
     "metadata": {},
     "output_type": "execute_result"
    }
   ],
   "source": [
    "recovered_in_nga.head()"
   ]
  },
  {
   "cell_type": "code",
   "execution_count": 48,
   "id": "49bb18df",
   "metadata": {},
   "outputs": [
    {
     "name": "stdout",
     "output_type": "stream",
     "text": [
      "<class 'pandas.core.frame.DataFrame'>\n",
      "RangeIndex: 1143 entries, 0 to 1142\n",
      "Data columns (total 2 columns):\n",
      " #   Column  Non-Null Count  Dtype         \n",
      "---  ------  --------------  -----         \n",
      " 0   Date    1143 non-null   datetime64[ns]\n",
      " 1   Cases   1143 non-null   int64         \n",
      "dtypes: datetime64[ns](1), int64(1)\n",
      "memory usage: 18.0 KB\n"
     ]
    }
   ],
   "source": [
    "recovered_in_nga.info()"
   ]
  },
  {
   "cell_type": "code",
   "execution_count": 49,
   "id": "268b1359",
   "metadata": {},
   "outputs": [
    {
     "data": {
      "text/html": [
       "<div>\n",
       "<style scoped>\n",
       "    .dataframe tbody tr th:only-of-type {\n",
       "        vertical-align: middle;\n",
       "    }\n",
       "\n",
       "    .dataframe tbody tr th {\n",
       "        vertical-align: top;\n",
       "    }\n",
       "\n",
       "    .dataframe thead th {\n",
       "        text-align: right;\n",
       "    }\n",
       "</style>\n",
       "<table border=\"1\" class=\"dataframe\">\n",
       "  <thead>\n",
       "    <tr style=\"text-align: right;\">\n",
       "      <th></th>\n",
       "      <th>Province/State</th>\n",
       "      <th>Country/Region</th>\n",
       "      <th>Lat</th>\n",
       "      <th>Long</th>\n",
       "      <th>1/22/20</th>\n",
       "      <th>1/23/20</th>\n",
       "      <th>1/24/20</th>\n",
       "      <th>1/25/20</th>\n",
       "      <th>1/26/20</th>\n",
       "      <th>1/27/20</th>\n",
       "      <th>...</th>\n",
       "      <th>2/28/23</th>\n",
       "      <th>3/1/23</th>\n",
       "      <th>3/2/23</th>\n",
       "      <th>3/3/23</th>\n",
       "      <th>3/4/23</th>\n",
       "      <th>3/5/23</th>\n",
       "      <th>3/6/23</th>\n",
       "      <th>3/7/23</th>\n",
       "      <th>3/8/23</th>\n",
       "      <th>3/9/23</th>\n",
       "    </tr>\n",
       "  </thead>\n",
       "  <tbody>\n",
       "    <tr>\n",
       "      <th>0</th>\n",
       "      <td>NaN</td>\n",
       "      <td>Afghanistan</td>\n",
       "      <td>33.93911</td>\n",
       "      <td>67.709953</td>\n",
       "      <td>0</td>\n",
       "      <td>0</td>\n",
       "      <td>0</td>\n",
       "      <td>0</td>\n",
       "      <td>0</td>\n",
       "      <td>0</td>\n",
       "      <td>...</td>\n",
       "      <td>7896</td>\n",
       "      <td>7896</td>\n",
       "      <td>7896</td>\n",
       "      <td>7896</td>\n",
       "      <td>7896</td>\n",
       "      <td>7896</td>\n",
       "      <td>7896</td>\n",
       "      <td>7896</td>\n",
       "      <td>7896</td>\n",
       "      <td>7896</td>\n",
       "    </tr>\n",
       "    <tr>\n",
       "      <th>1</th>\n",
       "      <td>NaN</td>\n",
       "      <td>Albania</td>\n",
       "      <td>41.15330</td>\n",
       "      <td>20.168300</td>\n",
       "      <td>0</td>\n",
       "      <td>0</td>\n",
       "      <td>0</td>\n",
       "      <td>0</td>\n",
       "      <td>0</td>\n",
       "      <td>0</td>\n",
       "      <td>...</td>\n",
       "      <td>3598</td>\n",
       "      <td>3598</td>\n",
       "      <td>3598</td>\n",
       "      <td>3598</td>\n",
       "      <td>3598</td>\n",
       "      <td>3598</td>\n",
       "      <td>3598</td>\n",
       "      <td>3598</td>\n",
       "      <td>3598</td>\n",
       "      <td>3598</td>\n",
       "    </tr>\n",
       "    <tr>\n",
       "      <th>2</th>\n",
       "      <td>NaN</td>\n",
       "      <td>Algeria</td>\n",
       "      <td>28.03390</td>\n",
       "      <td>1.659600</td>\n",
       "      <td>0</td>\n",
       "      <td>0</td>\n",
       "      <td>0</td>\n",
       "      <td>0</td>\n",
       "      <td>0</td>\n",
       "      <td>0</td>\n",
       "      <td>...</td>\n",
       "      <td>6881</td>\n",
       "      <td>6881</td>\n",
       "      <td>6881</td>\n",
       "      <td>6881</td>\n",
       "      <td>6881</td>\n",
       "      <td>6881</td>\n",
       "      <td>6881</td>\n",
       "      <td>6881</td>\n",
       "      <td>6881</td>\n",
       "      <td>6881</td>\n",
       "    </tr>\n",
       "    <tr>\n",
       "      <th>3</th>\n",
       "      <td>NaN</td>\n",
       "      <td>Andorra</td>\n",
       "      <td>42.50630</td>\n",
       "      <td>1.521800</td>\n",
       "      <td>0</td>\n",
       "      <td>0</td>\n",
       "      <td>0</td>\n",
       "      <td>0</td>\n",
       "      <td>0</td>\n",
       "      <td>0</td>\n",
       "      <td>...</td>\n",
       "      <td>165</td>\n",
       "      <td>165</td>\n",
       "      <td>165</td>\n",
       "      <td>165</td>\n",
       "      <td>165</td>\n",
       "      <td>165</td>\n",
       "      <td>165</td>\n",
       "      <td>165</td>\n",
       "      <td>165</td>\n",
       "      <td>165</td>\n",
       "    </tr>\n",
       "    <tr>\n",
       "      <th>4</th>\n",
       "      <td>NaN</td>\n",
       "      <td>Angola</td>\n",
       "      <td>-11.20270</td>\n",
       "      <td>17.873900</td>\n",
       "      <td>0</td>\n",
       "      <td>0</td>\n",
       "      <td>0</td>\n",
       "      <td>0</td>\n",
       "      <td>0</td>\n",
       "      <td>0</td>\n",
       "      <td>...</td>\n",
       "      <td>1933</td>\n",
       "      <td>1933</td>\n",
       "      <td>1933</td>\n",
       "      <td>1933</td>\n",
       "      <td>1933</td>\n",
       "      <td>1933</td>\n",
       "      <td>1933</td>\n",
       "      <td>1933</td>\n",
       "      <td>1933</td>\n",
       "      <td>1933</td>\n",
       "    </tr>\n",
       "  </tbody>\n",
       "</table>\n",
       "<p>5 rows × 1147 columns</p>\n",
       "</div>"
      ],
      "text/plain": [
       "  Province/State Country/Region       Lat       Long  1/22/20  1/23/20  \\\n",
       "0            NaN    Afghanistan  33.93911  67.709953        0        0   \n",
       "1            NaN        Albania  41.15330  20.168300        0        0   \n",
       "2            NaN        Algeria  28.03390   1.659600        0        0   \n",
       "3            NaN        Andorra  42.50630   1.521800        0        0   \n",
       "4            NaN         Angola -11.20270  17.873900        0        0   \n",
       "\n",
       "   1/24/20  1/25/20  1/26/20  1/27/20  ...  2/28/23  3/1/23  3/2/23  3/3/23  \\\n",
       "0        0        0        0        0  ...     7896    7896    7896    7896   \n",
       "1        0        0        0        0  ...     3598    3598    3598    3598   \n",
       "2        0        0        0        0  ...     6881    6881    6881    6881   \n",
       "3        0        0        0        0  ...      165     165     165     165   \n",
       "4        0        0        0        0  ...     1933    1933    1933    1933   \n",
       "\n",
       "   3/4/23  3/5/23  3/6/23  3/7/23  3/8/23  3/9/23  \n",
       "0    7896    7896    7896    7896    7896    7896  \n",
       "1    3598    3598    3598    3598    3598    3598  \n",
       "2    6881    6881    6881    6881    6881    6881  \n",
       "3     165     165     165     165     165     165  \n",
       "4    1933    1933    1933    1933    1933    1933  \n",
       "\n",
       "[5 rows x 1147 columns]"
      ]
     },
     "execution_count": 49,
     "metadata": {},
     "output_type": "execute_result"
    }
   ],
   "source": [
    "df_globaldeath.head()"
   ]
  },
  {
   "cell_type": "markdown",
   "id": "e27713fc",
   "metadata": {},
   "source": [
    "#### TODO D: Get a Pandas DataFrame for Daily Death Cases in Nigeria"
   ]
  },
  {
   "cell_type": "code",
   "execution_count": 50,
   "id": "f4c6c369",
   "metadata": {},
   "outputs": [],
   "source": [
    "df_globaldeath2 = df_globaldeath.drop(['Province/State', 'Lat', 'Long'], axis=1)"
   ]
  },
  {
   "cell_type": "code",
   "execution_count": 51,
   "id": "5c441fe5",
   "metadata": {},
   "outputs": [],
   "source": [
    "death_in_nga = df_globaldeath.groupby('Country/Region').sum().loc['Nigeria']"
   ]
  },
  {
   "cell_type": "code",
   "execution_count": 52,
   "id": "01c43ddb",
   "metadata": {},
   "outputs": [],
   "source": [
    "death_in_nga = death_in_nga.to_frame().reset_index()"
   ]
  },
  {
   "cell_type": "code",
   "execution_count": 53,
   "id": "c866d1b0",
   "metadata": {},
   "outputs": [],
   "source": [
    "death_in_nga.columns = ['Date','Cases']"
   ]
  },
  {
   "cell_type": "code",
   "execution_count": null,
   "id": "078e15e8",
   "metadata": {},
   "outputs": [],
   "source": [
    "death_in_nga['Date'] = pd.to_datetime(death_in_nga)"
   ]
  },
  {
   "cell_type": "code",
   "execution_count": 55,
   "id": "efbfb5bc",
   "metadata": {},
   "outputs": [
    {
     "data": {
      "text/html": [
       "<div>\n",
       "<style scoped>\n",
       "    .dataframe tbody tr th:only-of-type {\n",
       "        vertical-align: middle;\n",
       "    }\n",
       "\n",
       "    .dataframe tbody tr th {\n",
       "        vertical-align: top;\n",
       "    }\n",
       "\n",
       "    .dataframe thead th {\n",
       "        text-align: right;\n",
       "    }\n",
       "</style>\n",
       "<table border=\"1\" class=\"dataframe\">\n",
       "  <thead>\n",
       "    <tr style=\"text-align: right;\">\n",
       "      <th></th>\n",
       "      <th>Date</th>\n",
       "      <th>Cases</th>\n",
       "    </tr>\n",
       "  </thead>\n",
       "  <tbody>\n",
       "    <tr>\n",
       "      <th>0</th>\n",
       "      <td>Province/State</td>\n",
       "      <td>0</td>\n",
       "    </tr>\n",
       "    <tr>\n",
       "      <th>1</th>\n",
       "      <td>Lat</td>\n",
       "      <td>9.082</td>\n",
       "    </tr>\n",
       "    <tr>\n",
       "      <th>2</th>\n",
       "      <td>Long</td>\n",
       "      <td>8.6753</td>\n",
       "    </tr>\n",
       "    <tr>\n",
       "      <th>3</th>\n",
       "      <td>1/22/20</td>\n",
       "      <td>0</td>\n",
       "    </tr>\n",
       "    <tr>\n",
       "      <th>4</th>\n",
       "      <td>1/23/20</td>\n",
       "      <td>0</td>\n",
       "    </tr>\n",
       "  </tbody>\n",
       "</table>\n",
       "</div>"
      ],
      "text/plain": [
       "             Date   Cases\n",
       "0  Province/State       0\n",
       "1             Lat   9.082\n",
       "2            Long  8.6753\n",
       "3         1/22/20       0\n",
       "4         1/23/20       0"
      ]
     },
     "execution_count": 55,
     "metadata": {},
     "output_type": "execute_result"
    }
   ],
   "source": [
    "death_in_nga.head()"
   ]
  },
  {
   "cell_type": "code",
   "execution_count": 56,
   "id": "93672c82",
   "metadata": {},
   "outputs": [
    {
     "data": {
      "text/html": [
       "<div>\n",
       "<style scoped>\n",
       "    .dataframe tbody tr th:only-of-type {\n",
       "        vertical-align: middle;\n",
       "    }\n",
       "\n",
       "    .dataframe tbody tr th {\n",
       "        vertical-align: top;\n",
       "    }\n",
       "\n",
       "    .dataframe thead th {\n",
       "        text-align: right;\n",
       "    }\n",
       "</style>\n",
       "<table border=\"1\" class=\"dataframe\">\n",
       "  <thead>\n",
       "    <tr style=\"text-align: right;\">\n",
       "      <th></th>\n",
       "      <th>Date</th>\n",
       "      <th>Cases</th>\n",
       "    </tr>\n",
       "  </thead>\n",
       "  <tbody>\n",
       "    <tr>\n",
       "      <th>1141</th>\n",
       "      <td>3/5/23</td>\n",
       "      <td>3155</td>\n",
       "    </tr>\n",
       "    <tr>\n",
       "      <th>1142</th>\n",
       "      <td>3/6/23</td>\n",
       "      <td>3155</td>\n",
       "    </tr>\n",
       "    <tr>\n",
       "      <th>1143</th>\n",
       "      <td>3/7/23</td>\n",
       "      <td>3155</td>\n",
       "    </tr>\n",
       "    <tr>\n",
       "      <th>1144</th>\n",
       "      <td>3/8/23</td>\n",
       "      <td>3155</td>\n",
       "    </tr>\n",
       "    <tr>\n",
       "      <th>1145</th>\n",
       "      <td>3/9/23</td>\n",
       "      <td>3155</td>\n",
       "    </tr>\n",
       "  </tbody>\n",
       "</table>\n",
       "</div>"
      ],
      "text/plain": [
       "        Date Cases\n",
       "1141  3/5/23  3155\n",
       "1142  3/6/23  3155\n",
       "1143  3/7/23  3155\n",
       "1144  3/8/23  3155\n",
       "1145  3/9/23  3155"
      ]
     },
     "execution_count": 56,
     "metadata": {},
     "output_type": "execute_result"
    }
   ],
   "source": [
    "death_in_nga.tail()"
   ]
  },
  {
   "cell_type": "code",
   "execution_count": 60,
   "id": "39b5cc92",
   "metadata": {},
   "outputs": [
    {
     "name": "stdout",
     "output_type": "stream",
     "text": [
      "<class 'pandas.core.frame.DataFrame'>\n",
      "RangeIndex: 1146 entries, 0 to 1145\n",
      "Data columns (total 2 columns):\n",
      " #   Column  Non-Null Count  Dtype \n",
      "---  ------  --------------  ----- \n",
      " 0   Date    1146 non-null   object\n",
      " 1   Cases   1146 non-null   object\n",
      "dtypes: object(2)\n",
      "memory usage: 18.0+ KB\n"
     ]
    }
   ],
   "source": [
    "death_in_nga.info()"
   ]
  },
  {
   "cell_type": "markdown",
   "id": "9d37857c",
   "metadata": {},
   "source": [
    "## Data Analysis"
   ]
  },
  {
   "cell_type": "markdown",
   "id": "be51a186",
   "metadata": {},
   "source": [
    "### TODO A\n",
    "### Generate a plot that shows the Top 10 states in terms of Confirmed Covid cases by Laboratory test"
   ]
  },
  {
   "cell_type": "code",
   "execution_count": 61,
   "id": "140f0d6c",
   "metadata": {},
   "outputs": [
    {
     "data": {
      "image/png": "[encoded data removed]",
      "text/plain": [
       "<Figure size 700x400 with 1 Axes>"
      ]
     },
     "metadata": {},
     "output_type": "display_data"
    }
   ],
   "source": [
    "data = naijadf.nlargest(10, 'Lab confirmed cases')\n",
    "fig = plt.figure(figsize=(7, 4))\n",
    "ax = sns.barplot(x='Lab confirmed cases', y='states', data=data[['states', 'Lab confirmed cases']])\n",
    "ax.set_title('Confirmed cases per State')\n",
    "ax.set_xlabel('Confirmed Cases by Laboratory')\n",
    "ax.set_ylabel('States');"
   ]
  },
  {
   "cell_type": "markdown",
   "id": "d2faba80",
   "metadata": {},
   "source": [
    "#### Insight: Lagos State has the highest number of confirmed cases by laboratory, followed by FCT. There is a large margin between the first and second."
   ]
  },
  {
   "cell_type": "markdown",
   "id": "f44198c0",
   "metadata": {},
   "source": [
    "### TODO B\n",
    "### Generate a plot that shows the Top 10 states in terms of Discharged Covid cases."
   ]
  },
  {
   "cell_type": "code",
   "execution_count": 62,
   "id": "11d62321",
   "metadata": {},
   "outputs": [
    {
     "data": {
      "text/plain": [
       "Text(0.5, 1.0, 'Discharged cases per State')"
      ]
     },
     "execution_count": 62,
     "metadata": {},
     "output_type": "execute_result"
    },
    {
     "data": {
      "image/png": "[encoded data removed]",
      "text/plain": [
       "<Figure size 700x400 with 1 Axes>"
      ]
     },
     "metadata": {},
     "output_type": "display_data"
    }
   ],
   "source": [
    "fig = plt.figure(figsize=(7, 4))\n",
    "bar = sns.barplot(x='Number of discharged', y='states', data=naijadf[['states', 'Number of discharged']].sort_values(by=['Number of discharged'],ascending=False).loc[:10])\n",
    "bar.set_xlabel('Number of discharged')\n",
    "bar.set_title('Discharged cases per State')"
   ]
  },
  {
   "cell_type": "markdown",
   "id": "174b7bfb",
   "metadata": {},
   "source": [
    "#### Lagos State has the highest number of discharged cases, followed by FCT and Rivers"
   ]
  },
  {
   "cell_type": "markdown",
   "id": "39c02576",
   "metadata": {},
   "source": [
    "### TODO C\n",
    "### Generate a plot that shows the top 10 Death cases by state"
   ]
  },
  {
   "cell_type": "code",
   "execution_count": 63,
   "id": "ff77301e",
   "metadata": {},
   "outputs": [
    {
     "data": {
      "text/plain": [
       "Text(0, 0.5, 'States affected')"
      ]
     },
     "execution_count": 63,
     "metadata": {},
     "output_type": "execute_result"
    },
    {
     "data": {
      "image/png": "[encoded data removed]",
      "text/plain": [
       "<Figure size 700x400 with 1 Axes>"
      ]
     },
     "metadata": {},
     "output_type": "display_data"
    }
   ],
   "source": [
    "data = naijadf.nlargest(10, 'Number of deaths')\n",
    "fig = plt.figure(figsize=(7, 4))\n",
    "bar = sns.barplot(x='Number of deaths', y='states', data=data[['states', 'Number of deaths']])\n",
    "bar.set_title('Death cases per State')\n",
    "bar.set_xlabel('Death Cases by Laboratory')\n",
    "bar.set_ylabel('States affected')"
   ]
  },
  {
   "cell_type": "markdown",
   "id": "6b9f5df5",
   "metadata": {},
   "source": [
    "#### Lagos State has the highest number of deaths as confirmed by lab, followed by Edo State and FCT."
   ]
  },
  {
   "cell_type": "markdown",
   "id": "d4c4df19",
   "metadata": {},
   "source": [
    "### TODO E \n",
    "### Generate a line plot for the total daily confirmed, recovered and death cases in Nigeria"
   ]
  },
  {
   "cell_type": "code",
   "execution_count": 64,
   "id": "641bc035",
   "metadata": {},
   "outputs": [
    {
     "data": {
      "image/png": "[encoded data removed]",
      "text/plain": [
       "<Figure size 640x480 with 1 Axes>"
      ]
     },
     "metadata": {},
     "output_type": "display_data"
    }
   ],
   "source": [
    "sns.lineplot(x=\"Date\", y=\"Cases\", data=confirmed_in_nga)\n",
    "plt.xticks(rotation=35)\n",
    "plt.title('Total Daily Confirmed Cases in Nigeria')\n",
    "plt.show()"
   ]
  },
  {
   "cell_type": "code",
   "execution_count": 65,
   "id": "d4f9c1d0",
   "metadata": {},
   "outputs": [
    {
     "data": {
      "image/png": "[encoded data removed]",
      "text/plain": [
       "<Figure size 640x480 with 1 Axes>"
      ]
     },
     "metadata": {},
     "output_type": "display_data"
    }
   ],
   "source": [
    "sns.lineplot(x=\"Date\", y=\"Cases\", data=recovered_in_nga)\n",
    "plt.xticks(rotation=35)\n",
    "plt.title('Total Daily Recovered cases in Nigeria')\n",
    "plt.show()"
   ]
  },
  {
   "cell_type": "code",
   "execution_count": 68,
   "id": "6425b429",
   "metadata": {},
   "outputs": [
    {
     "data": {
      "image/png": "[encoded data removed]",
      "text/plain": [
       "<Figure size 640x480 with 1 Axes>"
      ]
     },
     "metadata": {},
     "output_type": "display_data"
    }
   ],
   "source": [
    "sns.lineplot(x=\"Date\", y=\"Cases\", data=death_in_nga)\n",
    "plt.xticks(rotation=35)\n",
    "plt.title('Total Death Cases in Nigeria Daily')\n",
    "plt.show()"
   ]
  },
  {
   "cell_type": "markdown",
   "id": "2a1a0e07",
   "metadata": {},
   "source": [
    "### Insight: From the plots above, we can see that as the recovered cases went down, the death toll went up."
   ]
  },
  {
   "cell_type": "markdown",
   "id": "228c3c4c",
   "metadata": {},
   "source": [
    "### TODO-F \n",
    "### Determine the daily infection rate, you can use the Pandas diff method to find the derivate of the total cases. \n",
    "### Generate a line plot for the above"
   ]
  },
  {
   "cell_type": "code",
   "execution_count": 67,
   "id": "04d5a91b",
   "metadata": {},
   "outputs": [
    {
     "data": {
      "image/png": "[encoded data removed]",
      "text/plain": [
       "<Figure size 640x480 with 1 Axes>"
      ]
     },
     "metadata": {},
     "output_type": "display_data"
    }
   ],
   "source": [
    "y = confirmed_in_nga['Cases'].diff()\n",
    "sns.lineplot(x=\"Date\", y=y, data=confirmed_in_nga)\n",
    "plt.xticks(rotation=35)\n",
    "plt.title('Daily Infection rate in Nigeria')\n",
    "plt.show()"
   ]
  },
  {
   "cell_type": "markdown",
   "id": "51e675bb",
   "metadata": {},
   "source": [
    "### TODO-G \n",
    "### Calculate maximum infection rate for a day (Number of new cases). Find the date"
   ]
  },
  {
   "cell_type": "code",
   "execution_count": 69,
   "id": "c781b761",
   "metadata": {},
   "outputs": [
    {
     "data": {
      "text/plain": [
       "6158.0"
      ]
     },
     "execution_count": 69,
     "metadata": {},
     "output_type": "execute_result"
    }
   ],
   "source": [
    "y.max()"
   ]
  },
  {
   "cell_type": "code",
   "execution_count": 70,
   "id": "2d731711",
   "metadata": {},
   "outputs": [
    {
     "data": {
      "text/html": [
       "<div>\n",
       "<style scoped>\n",
       "    .dataframe tbody tr th:only-of-type {\n",
       "        vertical-align: middle;\n",
       "    }\n",
       "\n",
       "    .dataframe tbody tr th {\n",
       "        vertical-align: top;\n",
       "    }\n",
       "\n",
       "    .dataframe thead th {\n",
       "        text-align: right;\n",
       "    }\n",
       "</style>\n",
       "<table border=\"1\" class=\"dataframe\">\n",
       "  <thead>\n",
       "    <tr style=\"text-align: right;\">\n",
       "      <th></th>\n",
       "      <th>Date</th>\n",
       "      <th>Cases</th>\n",
       "      <th>IFR</th>\n",
       "    </tr>\n",
       "  </thead>\n",
       "  <tbody>\n",
       "    <tr>\n",
       "      <th>700</th>\n",
       "      <td>2021-12-22</td>\n",
       "      <td>231413</td>\n",
       "      <td>6158.0</td>\n",
       "    </tr>\n",
       "  </tbody>\n",
       "</table>\n",
       "</div>"
      ],
      "text/plain": [
       "          Date   Cases     IFR\n",
       "700 2021-12-22  231413  6158.0"
      ]
     },
     "execution_count": 70,
     "metadata": {},
     "output_type": "execute_result"
    }
   ],
   "source": [
    "confirmed_in_nga['IFR'] = confirmed_in_nga['Cases'].diff()\n",
    "confirmed_in_nga.loc[confirmed_in_nga['IFR'] == y.max()]"
   ]
  },
  {
   "cell_type": "markdown",
   "id": "32f2cbf7",
   "metadata": {},
   "source": [
    "#### On the 22nd of December,2021, Nigeria recorded the highest amount of new cases: 6,158"
   ]
  },
  {
   "cell_type": "markdown",
   "id": "e82c5166",
   "metadata": {},
   "source": [
    "## TODO-H\n",
    "###  Determine the relationship between the external dataset and the NCDC COVID-19 dataset. Here you will generate a line plot of top 10 confirmed cases and the overall community vulnerability index on the same axis. "
   ]
  },
  {
   "cell_type": "markdown",
   "id": "a28a454d",
   "metadata": {},
   "source": [
    "#### Step one: Combine the two dataset together on a common column(states) \n",
    "#### Create a new dataframe for plotting. This DataFrame will contain top 10 states in terms of confirmed cases i.e sort by confirmed cases."
   ]
  },
  {
   "cell_type": "code",
   "execution_count": 71,
   "id": "d80ea117",
   "metadata": {},
   "outputs": [],
   "source": [
    "df_merge = pd.merge(naijadf, df_external, how = 'outer', on= ['states'])"
   ]
  },
  {
   "cell_type": "code",
   "execution_count": 72,
   "id": "7b805423",
   "metadata": {},
   "outputs": [
    {
     "data": {
      "text/html": [
       "<div>\n",
       "<style scoped>\n",
       "    .dataframe tbody tr th:only-of-type {\n",
       "        vertical-align: middle;\n",
       "    }\n",
       "\n",
       "    .dataframe tbody tr th {\n",
       "        vertical-align: top;\n",
       "    }\n",
       "\n",
       "    .dataframe thead th {\n",
       "        text-align: right;\n",
       "    }\n",
       "</style>\n",
       "<table border=\"1\" class=\"dataframe\">\n",
       "  <thead>\n",
       "    <tr style=\"text-align: right;\">\n",
       "      <th></th>\n",
       "      <th>states</th>\n",
       "      <th>Lab confirmed cases</th>\n",
       "      <th>Cases on admission</th>\n",
       "      <th>Number of discharged</th>\n",
       "      <th>Number of deaths</th>\n",
       "      <th>region</th>\n",
       "      <th>Population</th>\n",
       "      <th>Overall CCVI Index</th>\n",
       "      <th>Age</th>\n",
       "      <th>Epidemiological</th>\n",
       "      <th>Fragility</th>\n",
       "      <th>Health System</th>\n",
       "      <th>Population Density</th>\n",
       "      <th>Socio-Economic</th>\n",
       "      <th>Transport Availability</th>\n",
       "      <th>Acute IHR</th>\n",
       "    </tr>\n",
       "  </thead>\n",
       "  <tbody>\n",
       "    <tr>\n",
       "      <th>0</th>\n",
       "      <td>Lagos</td>\n",
       "      <td>104286.0</td>\n",
       "      <td>1143.0</td>\n",
       "      <td>102372.0</td>\n",
       "      <td>771.0</td>\n",
       "      <td>South West</td>\n",
       "      <td>13992000.0</td>\n",
       "      <td>0.0</td>\n",
       "      <td>0.1</td>\n",
       "      <td>1.0</td>\n",
       "      <td>0.3</td>\n",
       "      <td>0.1</td>\n",
       "      <td>1.0</td>\n",
       "      <td>0.1</td>\n",
       "      <td>0.4</td>\n",
       "      <td>0.93</td>\n",
       "    </tr>\n",
       "    <tr>\n",
       "      <th>1</th>\n",
       "      <td>FCT</td>\n",
       "      <td>29535.0</td>\n",
       "      <td>9.0</td>\n",
       "      <td>29277.0</td>\n",
       "      <td>249.0</td>\n",
       "      <td>North Central</td>\n",
       "      <td>4865000.0</td>\n",
       "      <td>0.3</td>\n",
       "      <td>0.0</td>\n",
       "      <td>0.9</td>\n",
       "      <td>0.4</td>\n",
       "      <td>0.6</td>\n",
       "      <td>0.9</td>\n",
       "      <td>0.6</td>\n",
       "      <td>0.2</td>\n",
       "      <td>0.79</td>\n",
       "    </tr>\n",
       "    <tr>\n",
       "      <th>2</th>\n",
       "      <td>Rivers</td>\n",
       "      <td>18112.0</td>\n",
       "      <td>-3.0</td>\n",
       "      <td>17960.0</td>\n",
       "      <td>155.0</td>\n",
       "      <td>South South</td>\n",
       "      <td>7763000.0</td>\n",
       "      <td>0.4</td>\n",
       "      <td>0.5</td>\n",
       "      <td>0.9</td>\n",
       "      <td>0.6</td>\n",
       "      <td>0.6</td>\n",
       "      <td>0.9</td>\n",
       "      <td>0.1</td>\n",
       "      <td>0.1</td>\n",
       "      <td>1.00</td>\n",
       "    </tr>\n",
       "    <tr>\n",
       "      <th>3</th>\n",
       "      <td>Kaduna</td>\n",
       "      <td>11675.0</td>\n",
       "      <td>3.0</td>\n",
       "      <td>11583.0</td>\n",
       "      <td>89.0</td>\n",
       "      <td>North West</td>\n",
       "      <td>9227000.0</td>\n",
       "      <td>0.7</td>\n",
       "      <td>0.1</td>\n",
       "      <td>0.9</td>\n",
       "      <td>0.8</td>\n",
       "      <td>0.9</td>\n",
       "      <td>0.4</td>\n",
       "      <td>0.6</td>\n",
       "      <td>0.4</td>\n",
       "      <td>0.86</td>\n",
       "    </tr>\n",
       "    <tr>\n",
       "      <th>4</th>\n",
       "      <td>Plateau</td>\n",
       "      <td>10365.0</td>\n",
       "      <td>4.0</td>\n",
       "      <td>10286.0</td>\n",
       "      <td>75.0</td>\n",
       "      <td>North Central</td>\n",
       "      <td>4766000.0</td>\n",
       "      <td>0.4</td>\n",
       "      <td>0.5</td>\n",
       "      <td>0.4</td>\n",
       "      <td>0.8</td>\n",
       "      <td>0.3</td>\n",
       "      <td>0.3</td>\n",
       "      <td>0.5</td>\n",
       "      <td>0.3</td>\n",
       "      <td>0.93</td>\n",
       "    </tr>\n",
       "  </tbody>\n",
       "</table>\n",
       "</div>"
      ],
      "text/plain": [
       "    states  Lab confirmed cases  Cases on admission  Number of discharged  \\\n",
       "0    Lagos             104286.0              1143.0              102372.0   \n",
       "1      FCT              29535.0                 9.0               29277.0   \n",
       "2   Rivers              18112.0                -3.0               17960.0   \n",
       "3   Kaduna              11675.0                 3.0               11583.0   \n",
       "4  Plateau              10365.0                 4.0               10286.0   \n",
       "\n",
       "   Number of deaths         region  Population  Overall CCVI Index  Age  \\\n",
       "0             771.0     South West  13992000.0                 0.0  0.1   \n",
       "1             249.0  North Central   4865000.0                 0.3  0.0   \n",
       "2             155.0    South South   7763000.0                 0.4  0.5   \n",
       "3              89.0     North West   9227000.0                 0.7  0.1   \n",
       "4              75.0  North Central   4766000.0                 0.4  0.5   \n",
       "\n",
       "   Epidemiological  Fragility  Health System  Population Density  \\\n",
       "0              1.0        0.3            0.1                 1.0   \n",
       "1              0.9        0.4            0.6                 0.9   \n",
       "2              0.9        0.6            0.6                 0.9   \n",
       "3              0.9        0.8            0.9                 0.4   \n",
       "4              0.4        0.8            0.3                 0.3   \n",
       "\n",
       "   Socio-Economic   Transport Availability  Acute IHR  \n",
       "0             0.1                      0.4       0.93  \n",
       "1             0.6                      0.2       0.79  \n",
       "2             0.1                      0.1       1.00  \n",
       "3             0.6                      0.4       0.86  \n",
       "4             0.5                      0.3       0.93  "
      ]
     },
     "execution_count": 72,
     "metadata": {},
     "output_type": "execute_result"
    }
   ],
   "source": [
    "df_merge.head()"
   ]
  },
  {
   "cell_type": "code",
   "execution_count": 73,
   "id": "eddb5531",
   "metadata": {},
   "outputs": [
    {
     "data": {
      "text/html": [
       "<div>\n",
       "<style scoped>\n",
       "    .dataframe tbody tr th:only-of-type {\n",
       "        vertical-align: middle;\n",
       "    }\n",
       "\n",
       "    .dataframe tbody tr th {\n",
       "        vertical-align: top;\n",
       "    }\n",
       "\n",
       "    .dataframe thead th {\n",
       "        text-align: right;\n",
       "    }\n",
       "</style>\n",
       "<table border=\"1\" class=\"dataframe\">\n",
       "  <thead>\n",
       "    <tr style=\"text-align: right;\">\n",
       "      <th></th>\n",
       "      <th>states</th>\n",
       "      <th>Lab confirmed cases</th>\n",
       "      <th>Cases on admission</th>\n",
       "      <th>Number of discharged</th>\n",
       "      <th>Number of deaths</th>\n",
       "      <th>region</th>\n",
       "      <th>Population</th>\n",
       "      <th>Overall CCVI Index</th>\n",
       "      <th>Age</th>\n",
       "      <th>Epidemiological</th>\n",
       "      <th>Fragility</th>\n",
       "      <th>Health System</th>\n",
       "      <th>Population Density</th>\n",
       "      <th>Socio-Economic</th>\n",
       "      <th>Transport Availability</th>\n",
       "      <th>Acute IHR</th>\n",
       "    </tr>\n",
       "  </thead>\n",
       "  <tbody>\n",
       "    <tr>\n",
       "      <th>35</th>\n",
       "      <td>Zamfara</td>\n",
       "      <td>375.0</td>\n",
       "      <td>0.0</td>\n",
       "      <td>366.0</td>\n",
       "      <td>9.0</td>\n",
       "      <td>North West</td>\n",
       "      <td>4974000.0</td>\n",
       "      <td>0.9</td>\n",
       "      <td>0.2</td>\n",
       "      <td>0.1</td>\n",
       "      <td>0.7</td>\n",
       "      <td>0.8</td>\n",
       "      <td>0.2</td>\n",
       "      <td>1.0</td>\n",
       "      <td>0.9</td>\n",
       "      <td>0.87</td>\n",
       "    </tr>\n",
       "    <tr>\n",
       "      <th>36</th>\n",
       "      <td>Kogi</td>\n",
       "      <td>5.0</td>\n",
       "      <td>0.0</td>\n",
       "      <td>3.0</td>\n",
       "      <td>2.0</td>\n",
       "      <td>North Central</td>\n",
       "      <td>4970000.0</td>\n",
       "      <td>0.1</td>\n",
       "      <td>0.3</td>\n",
       "      <td>0.2</td>\n",
       "      <td>0.5</td>\n",
       "      <td>0.5</td>\n",
       "      <td>0.4</td>\n",
       "      <td>0.3</td>\n",
       "      <td>0.6</td>\n",
       "      <td>0.87</td>\n",
       "    </tr>\n",
       "    <tr>\n",
       "      <th>37</th>\n",
       "      <td>Nassarawa</td>\n",
       "      <td>NaN</td>\n",
       "      <td>NaN</td>\n",
       "      <td>NaN</td>\n",
       "      <td>NaN</td>\n",
       "      <td>North Central</td>\n",
       "      <td>2783000.0</td>\n",
       "      <td>0.1</td>\n",
       "      <td>0.3</td>\n",
       "      <td>0.5</td>\n",
       "      <td>0.9</td>\n",
       "      <td>0.0</td>\n",
       "      <td>0.1</td>\n",
       "      <td>0.6</td>\n",
       "      <td>0.5</td>\n",
       "      <td>0.85</td>\n",
       "    </tr>\n",
       "    <tr>\n",
       "      <th>38</th>\n",
       "      <td>Akwa Ibom</td>\n",
       "      <td>NaN</td>\n",
       "      <td>NaN</td>\n",
       "      <td>NaN</td>\n",
       "      <td>NaN</td>\n",
       "      <td>South East</td>\n",
       "      <td>6093000.0</td>\n",
       "      <td>0.7</td>\n",
       "      <td>0.8</td>\n",
       "      <td>0.7</td>\n",
       "      <td>0.6</td>\n",
       "      <td>0.8</td>\n",
       "      <td>0.8</td>\n",
       "      <td>0.5</td>\n",
       "      <td>0.1</td>\n",
       "      <td>1.01</td>\n",
       "    </tr>\n",
       "    <tr>\n",
       "      <th>39</th>\n",
       "      <td>Cross river</td>\n",
       "      <td>NaN</td>\n",
       "      <td>NaN</td>\n",
       "      <td>NaN</td>\n",
       "      <td>NaN</td>\n",
       "      <td>South South</td>\n",
       "      <td>4272000.0</td>\n",
       "      <td>0.5</td>\n",
       "      <td>0.4</td>\n",
       "      <td>0.7</td>\n",
       "      <td>0.8</td>\n",
       "      <td>0.1</td>\n",
       "      <td>0.4</td>\n",
       "      <td>0.4</td>\n",
       "      <td>0.6</td>\n",
       "      <td>0.98</td>\n",
       "    </tr>\n",
       "  </tbody>\n",
       "</table>\n",
       "</div>"
      ],
      "text/plain": [
       "         states  Lab confirmed cases  Cases on admission  \\\n",
       "35      Zamfara                375.0                 0.0   \n",
       "36         Kogi                  5.0                 0.0   \n",
       "37    Nassarawa                  NaN                 NaN   \n",
       "38    Akwa Ibom                  NaN                 NaN   \n",
       "39  Cross river                  NaN                 NaN   \n",
       "\n",
       "    Number of discharged  Number of deaths         region  Population  \\\n",
       "35                 366.0               9.0     North West   4974000.0   \n",
       "36                   3.0               2.0  North Central   4970000.0   \n",
       "37                   NaN               NaN  North Central   2783000.0   \n",
       "38                   NaN               NaN     South East   6093000.0   \n",
       "39                   NaN               NaN    South South   4272000.0   \n",
       "\n",
       "    Overall CCVI Index  Age  Epidemiological  Fragility  Health System  \\\n",
       "35                 0.9  0.2              0.1        0.7            0.8   \n",
       "36                 0.1  0.3              0.2        0.5            0.5   \n",
       "37                 0.1  0.3              0.5        0.9            0.0   \n",
       "38                 0.7  0.8              0.7        0.6            0.8   \n",
       "39                 0.5  0.4              0.7        0.8            0.1   \n",
       "\n",
       "    Population Density  Socio-Economic   Transport Availability  Acute IHR  \n",
       "35                 0.2             1.0                      0.9       0.87  \n",
       "36                 0.4             0.3                      0.6       0.87  \n",
       "37                 0.1             0.6                      0.5       0.85  \n",
       "38                 0.8             0.5                      0.1       1.01  \n",
       "39                 0.4             0.4                      0.6       0.98  "
      ]
     },
     "execution_count": 73,
     "metadata": {},
     "output_type": "execute_result"
    }
   ],
   "source": [
    "df_merge.tail()"
   ]
  },
  {
   "cell_type": "code",
   "execution_count": 74,
   "id": "2e0a3eb3",
   "metadata": {},
   "outputs": [],
   "source": [
    "df_tcase = df_merge.nlargest(11, 'Lab confirmed cases')"
   ]
  },
  {
   "cell_type": "code",
   "execution_count": 75,
   "id": "4008d020",
   "metadata": {},
   "outputs": [
    {
     "data": {
      "image/png": "[encoded data removed]",
      "text/plain": [
       "<Figure size 640x480 with 2 Axes>"
      ]
     },
     "metadata": {},
     "output_type": "display_data"
    }
   ],
   "source": [
    "fig = plt.figure()\n",
    "ax1 = fig.add_subplot(111)\n",
    "ax1.plot(df_tcase['states'], df_tcase['Lab confirmed cases'])\n",
    "ax1.set_ylabel('Confirmed Cases (laboratory)')\n",
    "ax2 = ax1.twinx()\n",
    "ax2.plot(df_tcase['states'], df_tcase['Overall CCVI Index'], 'r-')\n",
    "ax2.set_ylabel('Overall CCVI Index', color='r')\n",
    "for tl in ax2.get_yticklabels():\n",
    "    tl.set_color('r')\n",
    "plt.setp(ax1.xaxis.get_majorticklabels(), rotation=90)\n",
    "plt.show()"
   ]
  },
  {
   "cell_type": "markdown",
   "id": "fc2a5585",
   "metadata": {},
   "source": [
    "### Observation: Kaduna has the highest CCVI index despite the average amount of confirmed cases. This is due to the low rate of medical health system and infrastructure in the state.\n",
    "### Lagos has the lowest CCVI index despite having the highest amount of confirmed cases. This is as a result of the adequate medical infrastructure and the social distancing operation that took place in the state."
   ]
  },
  {
   "cell_type": "markdown",
   "id": "6b3db975",
   "metadata": {},
   "source": [
    "## TODO-I \n",
    "### Determine the relationship between the external dataset and the NCDC COVID-19 dataset. \n",
    "### Here we will generate a regression plot between two variables to visualize the linear relationships - Confirmed Cases and Population Density."
   ]
  },
  {
   "cell_type": "code",
   "execution_count": 76,
   "id": "0cdfa35f",
   "metadata": {},
   "outputs": [
    {
     "data": {
      "text/plain": [
       "<Axes: xlabel='Population Density', ylabel='Lab confirmed cases'>"
      ]
     },
     "execution_count": 76,
     "metadata": {},
     "output_type": "execute_result"
    },
    {
     "data": {
      "image/png": "[encoded data removed]",
      "text/plain": [
       "<Figure size 640x480 with 1 Axes>"
      ]
     },
     "metadata": {},
     "output_type": "display_data"
    }
   ],
   "source": [
    "sns.regplot(data = df_tcase, x=\"Population Density\", y=\"Lab confirmed cases\")"
   ]
  },
  {
   "cell_type": "markdown",
   "id": "b8b6007c",
   "metadata": {},
   "source": [
    "### From the plot above, we can see that there is positive correlation between the COVID 19 Lab confirmed cases and Population density. This means that there are high cases of lab confirmed cases in areas that are densely populated."
   ]
  },
  {
   "cell_type": "markdown",
   "id": "b6c91369",
   "metadata": {},
   "source": [
    "## TODO-J \n",
    "### Provide more analyses by extending TODO G & H. Meaning, determine relationships between more features."
   ]
  },
  {
   "cell_type": "markdown",
   "id": "f2136ca6",
   "metadata": {},
   "source": [
    "## TODO-L\n",
    "### Determine the effect of the Pandemic on the economy. To do this, you will compare the Real GDP value Pre-COVID-19 with Real GDP in 2020 (COVID-19 Period, especially Q2 2020) "
   ]
  },
  {
   "cell_type": "markdown",
   "id": "4a4defd4",
   "metadata": {},
   "source": [
    "#### Steps\n",
    "#### 1. From the Real GDP Data, generate a barplot using the GDP values for each year & quarters. For example: On x-axis you will have year 2017 and the bars will be values of each quarters(Q1-Q4). You expected to have subplots of each quarters on one graph.\n",
    "#### 2. .Set your quarter legend to lower left. \n",
    "#### 3.  Using `axhline`, draw a horizontal line through the graph at the value of Q2 2020. "
   ]
  },
  {
   "cell_type": "code",
   "execution_count": 77,
   "id": "29c9e03f",
   "metadata": {},
   "outputs": [
    {
     "data": {
      "image/png": "[encoded data removed]",
      "text/plain": [
       "<Figure size 800x500 with 1 Axes>"
      ]
     },
     "metadata": {},
     "output_type": "display_data"
    }
   ],
   "source": [
    "plt.figure(figsize=(8,5))\n",
    "columns = [\"Year\", \"Q1\", \"Q2\", \"Q3\", \"Q4\"]\n",
    "melted_data = pd.melt(df_realgdp, id_vars=columns[0],\\\n",
    "                           var_name=\"source\", value_name=\"value_numbers\")\n",
    "g = sns.barplot(x=columns[0], y=\"value_numbers\", hue=\"source\",\\\n",
    "                data=melted_data, palette= 'prism')\n",
    "plt.legend(loc='lower left')\n",
    "\n",
    "g.axhline(1.586e7, ls='--')\n",
    "plt.show()"
   ]
  },
  {
   "cell_type": "markdown",
   "id": "ea84c725",
   "metadata": {},
   "source": [
    "#### From the plot above, we see that in the second quarter, from the month of May to August, COVID-19 deeply affected the economy. This is a point at which Coronavirus was at it's peak."
   ]
  }
 ],
 "metadata": {
  "kernelspec": {
   "display_name": "Python 3 (ipykernel)",
   "language": "python",
   "name": "python3"
  },
  "language_info": {
   "codemirror_mode": {
    "name": "ipython",
    "version": 3
   },
   "file_extension": ".py",
   "mimetype": "text/x-python",
   "name": "python",
   "nbconvert_exporter": "python",
   "pygments_lexer": "ipython3",
   "version": "3.11.5"
  }
 },
 "nbformat": 4,
 "nbformat_minor": 5
}
